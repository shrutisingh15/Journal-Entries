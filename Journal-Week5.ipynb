{
 "cells": [
  {
   "cell_type": "markdown",
   "metadata": {},
   "source": [
    "### Introduction:\n",
    "\n",
    "In week 5 journal entry, I have attempted to solve exercises from think bayes chapter 2,3 and 4. The data for the questions are based on the problem being discussed.\n",
    "\n",
    "The implemented solutions are both a mix of think bayes notations as well as generic functions."
   ]
  },
  {
   "cell_type": "code",
   "execution_count": 213,
   "metadata": {
    "collapsed": true
   },
   "outputs": [],
   "source": [
    "# Importing the libaries\n",
    "from __future__ import print_function, division\n",
    "\n",
    "% matplotlib inline\n",
    "import thinkbayes2\n",
    "from thinkbayes2 import Hist, Pmf, Suite, Beta\n",
    "import thinkplot"
   ]
  },
  {
   "cell_type": "markdown",
   "metadata": {},
   "source": [
    "**Exercise 2.1**  \n",
    "\n",
    "In Section 2.3, I said that the solution to the cookie problem generalizes to the case where we draw multiple cookies with replacement.\n",
    "But in the more likely scenario where we eat the cookies we draw, the likelihood of each draw depends on the previous draws.\n",
    "Modify the solution in this chapter to handle selection without replacement. Hint: add instance variables to Cookie to represent the hypothetical state of the bowls, and modify Likelihood accordingly. You might want to define a Bowl object."
   ]
  },
  {
   "cell_type": "markdown",
   "metadata": {},
   "source": [
    "\n",
    "**Solution**\n",
    "\n",
    "#### Case 1: Sampling with replacement\n",
    "\n",
    "There are two bowls Bowl1 and Bowl2. Bowl1 contains 30 vanilla and 20 chocolate cookies. The following section defines a Hist object (defined in thinkbayes) to keep track of cookies in each bowl."
   ]
  },
  {
   "cell_type": "code",
   "execution_count": 150,
   "metadata": {},
   "outputs": [
    {
     "name": "stdout",
     "output_type": "stream",
     "text": [
      "chocolate 10\n",
      "vanilla 30\n",
      "chocolate 20\n",
      "vanilla 20\n"
     ]
    }
   ],
   "source": [
    "# Define a Hist object to keep track of cookies in each bowl\n",
    "Bowl1 = Hist(dict(vanilla=30,chocolate=10))\n",
    "Bowl2 = Hist(dict(vanilla=20,chocolate=20))\n",
    "Bowl1.Print()\n",
    "Bowl2.Print()"
   ]
  },
  {
   "cell_type": "markdown",
   "metadata": {},
   "source": [
    "Let's make a probability mass function with two bowls giving them equal probability. So, the prior probability of both are equal initially."
   ]
  },
  {
   "cell_type": "code",
   "execution_count": 151,
   "metadata": {},
   "outputs": [
    {
     "name": "stdout",
     "output_type": "stream",
     "text": [
      "Hist({'vanilla': 30, 'chocolate': 10}) 0.5\n",
      "Hist({'vanilla': 20, 'chocolate': 20}) 0.5\n"
     ]
    }
   ],
   "source": [
    "# Pmf for two bowls\n",
    "pmf = Pmf([Bowl1,Bowl2])\n",
    "pmf.Print()"
   ]
  },
  {
   "cell_type": "markdown",
   "metadata": {},
   "source": [
    "According to Bayes theorem: \n",
    "\n",
    "Posterior = [Prior * Likelihood] / [Normalizing Constant]\n",
    "\n",
    "eg : Probability of Bowl1 given one has picked up vanilla cookie can be calculated as:\n",
    "\n",
    "P ( Bowl1 | Vanilla ) = [ P( Bowl1 ) * P( Vanilla | Bowl1 ) ] / [ P( Vanilla ) ]\n",
    "\n",
    "where, \n",
    "  + P ( Bowl1 | Vanilla ) = posterior\n",
    "  + P( Bowl1 ) = Prior for Bowl1\n",
    "  + P( Vanilla | Bowl1 ) = Likelihood\n",
    "  + P( Vanilla ) = Normaliing constant\n",
    "\n",
    "\n",
    "The following likehood function calculates the likelihood. The update function calculates the posterior by updating prior(multiplying prior by likelihood) and dividing the results by normalizing constant.\n",
    "\n",
    "Also, one thing to take note over here is the calculated posterior becomes the prior for the next draw from that bowl.\n"
   ]
  },
  {
   "cell_type": "code",
   "execution_count": 152,
   "metadata": {
    "collapsed": true
   },
   "outputs": [],
   "source": [
    "# Likelihood (like) is calculated as no. of vanilla or chocolate cookie(What ever is being picked)/total no. of cookies in that bowl\n",
    "def Likelihood(hypothesis,data):\n",
    "    like = hypothesis[data]/hypothesis.Total()\n",
    "    return like\n",
    "\n",
    "\n",
    "# sampling with replacement \n",
    "def update(pmf, data):\n",
    "    for hypothesis in pmf:\n",
    "        \n",
    "        pmf[hypothesis] *=Likelihood(hypothesis,data) # Update the prior and divide the \n",
    "        \n",
    "    return pmf.Normalize()\n"
   ]
  },
  {
   "cell_type": "code",
   "execution_count": 153,
   "metadata": {},
   "outputs": [
    {
     "name": "stdout",
     "output_type": "stream",
     "text": [
      "Hist({'vanilla': 30, 'chocolate': 10}) 0.6\n",
      "Hist({'vanilla': 20, 'chocolate': 20}) 0.4\n"
     ]
    }
   ],
   "source": [
    "#Sampling with replacement: Probability of picking vanilla cookie from bow11 and bowl2\n",
    "update(pmf,'vanilla')\n",
    "pmf.Print()"
   ]
  },
  {
   "cell_type": "markdown",
   "metadata": {},
   "source": [
    "In the first draw the probability of drawing a vanilla cookie from Bowl1 is 0.6 and Bowl2 is 0.4."
   ]
  },
  {
   "cell_type": "code",
   "execution_count": 154,
   "metadata": {},
   "outputs": [
    {
     "name": "stdout",
     "output_type": "stream",
     "text": [
      "Hist({'vanilla': 30, 'chocolate': 10}) 0.692307692308\n",
      "Hist({'vanilla': 20, 'chocolate': 20}) 0.307692307692\n"
     ]
    }
   ],
   "source": [
    "#Sampling with replacement: Probability of picking vanilla cookie from bowl1 and bowl2\n",
    "update(pmf,'vanilla')\n",
    "pmf.Print()"
   ]
  },
  {
   "cell_type": "markdown",
   "metadata": {},
   "source": [
    "In the first draw the probability of drawing a vanilla cookie from Bowl1 become 0.692 and Bowl2 becomes 0.307. This is a sampling witout replacement case but one thing to take note over here is the calculated posterior becomes the prior for the next draw from that bowl. This is because we are updating our belief in the system.\n"
   ]
  },
  {
   "cell_type": "code",
   "execution_count": 155,
   "metadata": {},
   "outputs": [
    {
     "name": "stdout",
     "output_type": "stream",
     "text": [
      "Hist({'vanilla': 30, 'chocolate': 10}) 0.771428571429\n",
      "Hist({'vanilla': 20, 'chocolate': 20}) 0.228571428571\n"
     ]
    }
   ],
   "source": [
    "#Sampling with replacement: Probability of picking vanilla cookie from bowl1 and bowl2\n",
    "update(pmf,'vanilla')\n",
    "pmf.Print()"
   ]
  },
  {
   "cell_type": "markdown",
   "metadata": {
    "collapsed": true
   },
   "source": [
    "Again in the next draw the probability of drawing a vanilla cookied from Bowl1 becomes 0.77 and from Bowl2 becomes 0.22 because of regular updation of belief(prior) upon every draw.\n",
    "\n",
    "The same example can work for drawing chocolate cookie as well"
   ]
  },
  {
   "cell_type": "markdown",
   "metadata": {},
   "source": [
    "#### Case2: Sampling without replacement\n",
    "\n",
    "\n",
    "There are two bowls B1 and B2. B1 contains 30 vanilla and 20 chocolate cookies. B2 contains equal no. of both cookies(20 and 20). The following section defines a Hist object (defined in thinkbayes) to keep track of cookies in each bowl."
   ]
  },
  {
   "cell_type": "code",
   "execution_count": 158,
   "metadata": {},
   "outputs": [
    {
     "name": "stdout",
     "output_type": "stream",
     "text": [
      "chocolate 10\n",
      "vanilla 30\n",
      "chocolate 20\n",
      "vanilla 20\n"
     ]
    }
   ],
   "source": [
    "B1 = Hist(dict(vanilla=30,chocolate=10))\n",
    "B2 = Hist(dict(vanilla=20,chocolate=20))\n",
    "B1.Print()\n",
    "B2.Print()"
   ]
  },
  {
   "cell_type": "markdown",
   "metadata": {},
   "source": [
    "Let's make a probability mass function with two bowls giving them equal probability. So, the prior probability of both are equal initially."
   ]
  },
  {
   "cell_type": "code",
   "execution_count": 159,
   "metadata": {},
   "outputs": [
    {
     "name": "stdout",
     "output_type": "stream",
     "text": [
      "Hist({'vanilla': 30, 'chocolate': 10}) 0.5\n",
      "Hist({'vanilla': 20, 'chocolate': 20}) 0.5\n"
     ]
    }
   ],
   "source": [
    "pmf1 = Pmf([B1,B2])\n",
    "pmf1.Print()"
   ]
  },
  {
   "cell_type": "code",
   "execution_count": 160,
   "metadata": {
    "collapsed": true
   },
   "outputs": [],
   "source": [
    "# Likelihood for sampling without replacement\n",
    "def calLikelihood(hypothesis,data):\n",
    "    like = hypothesis[data]/hypothesis.Total()\n",
    "    if like:\n",
    "        hypothesis[data] -=1\n",
    "    return like\n",
    "\n",
    "# Update function for sampling without replacement\n",
    "def modify(pmf, data):\n",
    "    for hypothesis in pmf:\n",
    "        pmf[hypothesis] *=calLikelihood(hypothesis,data)\n",
    "    return pmf.Normalize()\n"
   ]
  },
  {
   "cell_type": "code",
   "execution_count": 161,
   "metadata": {},
   "outputs": [
    {
     "name": "stdout",
     "output_type": "stream",
     "text": [
      "Hist({'vanilla': 29, 'chocolate': 10}) 0.6\n",
      "Hist({'vanilla': 19, 'chocolate': 20}) 0.4\n"
     ]
    }
   ],
   "source": [
    "#Sampling without replacement: Probability of picking vanilla cookie from \n",
    "modify(pmf1,'vanilla')\n",
    "pmf1.Print()"
   ]
  },
  {
   "cell_type": "markdown",
   "metadata": {},
   "source": [
    "In the first draw the probability of drawing a vanilla cookie from B1 is 0.6 and B2 is 0.4. This result is same as the first draw of sampling with replacement case but the no. of cookies get updated here(unlike sampling with replacement case)."
   ]
  },
  {
   "cell_type": "code",
   "execution_count": 162,
   "metadata": {},
   "outputs": [
    {
     "name": "stdout",
     "output_type": "stream",
     "text": [
      "Hist({'vanilla': 28, 'chocolate': 10}) 0.696\n",
      "Hist({'vanilla': 18, 'chocolate': 20}) 0.304\n"
     ]
    }
   ],
   "source": [
    "modify(pmf1,'vanilla')\n",
    "pmf1.Print()"
   ]
  },
  {
   "cell_type": "markdown",
   "metadata": {},
   "source": [
    "In the second draw the probability of drawing a vanilla cookie from B1 becomes 0.696 and from B2 becomes 0.304. No. of number of cookies in both the bowls as well as the belief in the system(prior) is updated in this case."
   ]
  },
  {
   "cell_type": "code",
   "execution_count": 163,
   "metadata": {},
   "outputs": [
    {
     "name": "stdout",
     "output_type": "stream",
     "text": [
      "Hist({'vanilla': 28, 'chocolate': 9}) 0.533742331288\n",
      "Hist({'vanilla': 18, 'chocolate': 19}) 0.466257668712\n"
     ]
    }
   ],
   "source": [
    "modify(pmf1,'chocolate')\n",
    "pmf1.Print()"
   ]
  },
  {
   "cell_type": "markdown",
   "metadata": {},
   "source": [
    "Similary, if the third draw was a chocolate cookie, the probability of B1 becomes 0.53 and B2 becomes 0.46. The no. of chocolate cookies have been updated in this case and not vanilla(Way too Obvious!!!!)"
   ]
  },
  {
   "cell_type": "markdown",
   "metadata": {},
   "source": [
    "**Exercise 3.1.** \n",
    "\n",
    "\n",
    "To write a likelihood function for the locomotive problem, we had to answer this question: “If the railroad has N locomotives, what is the probability that we see number 60?”\n",
    "\n",
    "The answer depends on what sampling process we use when we observe the loco- motive. In this chapter, I resolved the ambiguity by specifying that there is only one train-operating company (or only one that we care about).\n",
    "\n",
    "But suppose instead that there are many companies with different numbers of trains. And suppose that you are equally likely to see any train operated by any company. In that case, the likelihood function is different because you are more likely to see a train operated by a large company.\n",
    "\n",
    "As an exercise, implement the likelihood function for this variation of the locomotive problem, and compare the results.\n",
    "\n",
    "**Solution**"
   ]
  },
  {
   "cell_type": "markdown",
   "metadata": {},
   "source": [
    "***Note: The Solution for the likelihood function has been implemented with out using think bayes classs representation***"
   ]
  },
  {
   "cell_type": "code",
   "execution_count": 124,
   "metadata": {},
   "outputs": [
    {
     "name": "stdout",
     "output_type": "stream",
     "text": [
      "If there is only one company with 1000 trains...\n",
      "Chance of seeing any particular train with number 60 will be 0.001\n",
      "Chance of seeing any particular train with number 8000 will be 0\n"
     ]
    }
   ],
   "source": [
    "# Likelihood function if there is only one train-operating company\n",
    "def likelihood(n,hypo):\n",
    "    if hypo<n:\n",
    "        return 0\n",
    "    else:\n",
    "        return 1.0/hypo\n",
    "\n",
    "# Hypothesis(hypo) : No. of trains operated by one company\n",
    "hypo = 1000 \n",
    "\n",
    "# train with number n\n",
    "n = 60 \n",
    "\n",
    "# train with number n1\n",
    "n1 = 8000\n",
    "\n",
    "# Likelihood of seeing train with number n\n",
    "like = likelihood(n,hypo)\n",
    "\n",
    "# Likelihood of seeing train with number n1\n",
    "like1 = likelihood(n1,hypo)\n",
    "\n",
    "print (\"If there is only one company with {} trains...\".format(hypo))\n",
    "print (\"Chance of seeing any particular train with number {} will be {}\".format(n,like))\n",
    "print (\"Chance of seeing any particular train with number {} will be {}\".format(n1,like1))"
   ]
  },
  {
   "cell_type": "markdown",
   "metadata": {},
   "source": [
    "So, for one train operating company the likelihood of seeing any particular train with number(n) train will be 0.001 provided that number(n) is less than no. of trains operated by that company."
   ]
  },
  {
   "cell_type": "markdown",
   "metadata": {},
   "source": [
    "In case of multiple companies, the likelihood functions get modified to accomodate for the mutiple hypothesis."
   ]
  },
  {
   "cell_type": "code",
   "execution_count": 130,
   "metadata": {},
   "outputs": [
    {
     "name": "stdout",
     "output_type": "stream",
     "text": [
      "If there are three companies with [1000, 5000, 2000] number of trains respectively...\n",
      "Chance of seeing any particular train with number 60 will be 0.000375\n",
      "Chance of seeing any particular train with number 800 will be 0.000375\n",
      "Chance of seeing any particular train with number 1800 will be 0.00025\n"
     ]
    }
   ],
   "source": [
    "# for multiple companies\n",
    "def likelihoodMult(n,hypos):\n",
    "    totalTrain = sum(h for h in hypos)  # total no. of trains \n",
    "    numTrains = sum(1 for h in hypos if n<=h) # total no. of trains with that number\n",
    "    return numTrains/totalTrain\n",
    "\n",
    "# Hypothesis: Number of trains operated by n (3 in this example) companies\n",
    "hypos =[1000,5000,2000]\n",
    "   \n",
    "# train with number n\n",
    "n = 60 \n",
    "\n",
    "# train with number n1\n",
    "n1 = 800   \n",
    "\n",
    "# train with number n2\n",
    "n2 = 1800\n",
    "\n",
    "\n",
    "print (\"If there are three companies with {} number of trains respectively...\".format(hypos))\n",
    "like = likelihoodMult(n,hypos)\n",
    "print (\"Chance of seeing any particular train with number {} will be {}\".format(n,like))\n",
    "\n",
    "like1 = likelihoodMult(n1,hypos)\n",
    "print (\"Chance of seeing any particular train with number {} will be {}\".format(n1,like1))\n",
    "\n",
    "like2 = likelihoodMult(n2,hypos)\n",
    "print (\"Chance of seeing any particular train with number {} will be {}\".format(n2,like2))\n",
    "\n"
   ]
  },
  {
   "cell_type": "markdown",
   "metadata": {},
   "source": [
    "To accomodate more no. of companies, we just need to update the hypothesis(hypos). e.g if there are 5 companies with 1000,300,2000,800,5000 trains respectively. \n",
    "\n",
    "So, the hypos becomes the list of all these numbers [1000,300,2000,800,5000]\n"
   ]
  },
  {
   "cell_type": "markdown",
   "metadata": {},
   "source": [
    "**Exercise 4.1.**\n",
    "\n",
    "Suppose that instead of observing coin tosses directly, you measure the outcome using an instrument that is not always correct. Specifically, suppose there is a probability y that an actual heads is reported as tails, or actual tails re- ported as heads.\n",
    "Write a class that estimates the bias of a coin given a series of outcomes and the value of y.\n",
    "\n",
    "\n",
    "How does the spread of the posterior distribution depend on y?"
   ]
  },
  {
   "cell_type": "markdown",
   "metadata": {},
   "source": [
    "**Solution**"
   ]
  },
  {
   "cell_type": "code",
   "execution_count": 173,
   "metadata": {
    "collapsed": true
   },
   "outputs": [],
   "source": [
    "# Class that estimates the bias of a coin given a series of outcomes and the value of y\n",
    "# y denotes reliability of accurate measurement\n",
    "\n",
    "class UnreliableCoin(Suite):\n",
    "    \n",
    "    def __init__(self, prior, y):\n",
    "        \"\"\"\n",
    "        prior: seq or map\n",
    "        y: probability of accurate measurement\n",
    "        \"\"\"\n",
    "        Suite.__init__(self, prior)\n",
    "        self.y = y\n",
    "    \n",
    "    def Likelihood(self, data, hypo):\n",
    "        \"\"\"\n",
    "        data: outcome of unreliable measurement, either 'H' or 'T'\n",
    "        hypo: probability of heads, 0-100\n",
    "        \"\"\"\n",
    "        x = hypo / 100\n",
    "        y = self.y\n",
    "        if data == 'H':\n",
    "            return x*y + (1-x)*(1-y)\n",
    "        else:\n",
    "            return x*(1-y) + (1-x)*y"
   ]
  },
  {
   "cell_type": "code",
   "execution_count": 177,
   "metadata": {},
   "outputs": [
    {
     "data": {
      "image/png": "[encoded data removed]",
      "text/plain": [
       "<matplotlib.figure.Figure at 0x11ad133d0>"
      ]
     },
     "metadata": {},
     "output_type": "display_data"
    }
   ],
   "source": [
    "# Initialize the value of y which represents reliability of measurement.\n",
    "y =0.7\n",
    "prior = range(0,101)\n",
    "suite = UnreliableCoin(prior, y)\n",
    "thinkplot.Pdf(suite)"
   ]
  },
  {
   "cell_type": "markdown",
   "metadata": {},
   "source": [
    "At y=0.7 posterior equals prior, no information is obtained!"
   ]
  },
  {
   "cell_type": "code",
   "execution_count": 178,
   "metadata": {},
   "outputs": [
    {
     "data": {
      "text/plain": [
       "UnreliableCoin({0: 0.009900990099009901, 1: 0.009900990099009901, 2: 0.009900990099009901, 3: 0.009900990099009901, 4: 0.009900990099009901, 5: 0.009900990099009901, 6: 0.009900990099009901, 7: 0.009900990099009901, 8: 0.009900990099009901, 9: 0.009900990099009901, 10: 0.009900990099009901, 11: 0.009900990099009901, 12: 0.009900990099009901, 13: 0.009900990099009901, 14: 0.009900990099009901, 15: 0.009900990099009901, 16: 0.009900990099009901, 17: 0.009900990099009901, 18: 0.009900990099009901, 19: 0.009900990099009901, 20: 0.009900990099009901, 21: 0.009900990099009901, 22: 0.009900990099009901, 23: 0.009900990099009901, 24: 0.009900990099009901, 25: 0.009900990099009901, 26: 0.009900990099009901, 27: 0.009900990099009901, 28: 0.009900990099009901, 29: 0.009900990099009901, 30: 0.009900990099009901, 31: 0.009900990099009901, 32: 0.009900990099009901, 33: 0.009900990099009901, 34: 0.009900990099009901, 35: 0.009900990099009901, 36: 0.009900990099009901, 37: 0.009900990099009901, 38: 0.009900990099009901, 39: 0.009900990099009901, 40: 0.009900990099009901, 41: 0.009900990099009901, 42: 0.009900990099009901, 43: 0.009900990099009901, 44: 0.009900990099009901, 45: 0.009900990099009901, 46: 0.009900990099009901, 47: 0.009900990099009901, 48: 0.009900990099009901, 49: 0.009900990099009901, 50: 0.009900990099009901, 51: 0.009900990099009901, 52: 0.009900990099009901, 53: 0.009900990099009901, 54: 0.009900990099009901, 55: 0.009900990099009901, 56: 0.009900990099009901, 57: 0.009900990099009901, 58: 0.009900990099009901, 59: 0.009900990099009901, 60: 0.009900990099009901, 61: 0.009900990099009901, 62: 0.009900990099009901, 63: 0.009900990099009901, 64: 0.009900990099009901, 65: 0.009900990099009901, 66: 0.009900990099009901, 67: 0.009900990099009901, 68: 0.009900990099009901, 69: 0.009900990099009901, 70: 0.009900990099009901, 71: 0.009900990099009901, 72: 0.009900990099009901, 73: 0.009900990099009901, 74: 0.009900990099009901, 75: 0.009900990099009901, 76: 0.009900990099009901, 77: 0.009900990099009901, 78: 0.009900990099009901, 79: 0.009900990099009901, 80: 0.009900990099009901, 81: 0.009900990099009901, 82: 0.009900990099009901, 83: 0.009900990099009901, 84: 0.009900990099009901, 85: 0.009900990099009901, 86: 0.009900990099009901, 87: 0.009900990099009901, 88: 0.009900990099009901, 89: 0.009900990099009901, 90: 0.009900990099009901, 91: 0.009900990099009901, 92: 0.009900990099009901, 93: 0.009900990099009901, 94: 0.009900990099009901, 95: 0.009900990099009901, 96: 0.009900990099009901, 97: 0.009900990099009901, 98: 0.009900990099009901, 99: 0.009900990099009901, 100: 0.009900990099009901})"
      ]
     },
     "execution_count": 178,
     "metadata": {},
     "output_type": "execute_result"
    }
   ],
   "source": [
    "suite "
   ]
  },
  {
   "cell_type": "markdown",
   "metadata": {},
   "source": [
    "Let's update the suite with 5 heads and 8 tails..."
   ]
  },
  {
   "cell_type": "code",
   "execution_count": 179,
   "metadata": {},
   "outputs": [
    {
     "data": {
      "image/png": "[encoded data removed]",
      "text/plain": [
       "<matplotlib.figure.Figure at 0x11ad1d1d0>"
      ]
     },
     "metadata": {},
     "output_type": "display_data"
    }
   ],
   "source": [
    "for ht in 'HHHHHTTTTTTTT':\n",
    "    suite.Update(ht)\n",
    "    \n",
    "thinkplot.Pdf(suite)"
   ]
  },
  {
   "cell_type": "markdown",
   "metadata": {},
   "source": [
    "The posterior distribution looks something like the above plot."
   ]
  },
  {
   "cell_type": "code",
   "execution_count": 170,
   "metadata": {},
   "outputs": [
    {
     "data": {
      "text/plain": [
       "UnreliableCoin({0: 0.01298293868506456, 1: 0.013250255333983007, 2: 0.01350780400460077, 3: 0.01375507264264389, 4: 0.013991576107979818, 5: 0.014216857343156426, 6: 0.014430488428397422, 7: 0.014632071522074491, 8: 0.014821239686115699, 9: 0.014997657596234108, 10: 0.01516102213727053, 11: 0.015311062884337211, 12: 0.015447542470827488, 13: 0.015570256844716244, 14: 0.015679035414919208, 15: 0.015773741089804075, 16: 0.01585427021025433, 17: 0.015920552379974633, 18: 0.01597255019599749, 19: 0.01601025888260264, 20: 0.01603370583209346, 21: 0.016042950056088686, 22: 0.016038081551184233, 23: 0.016019220583015394, 24: 0.015986516892909888, 25: 0.015940148831460808, 26: 0.015880322423471455, 27: 0.015807270368827966, 28: 0.015721250983942694, 29: 0.0156225470884795, 30: 0.01551146484212631, 31: 0.015388332536214805, 32: 0.015253499345008279, 33: 0.01510733404148226, 34: 0.014950223682412068, 35: 0.014782572267556174, 36: 0.014604799377684349, 37: 0.014417338796146786, 38: 0.014220637118614201, 39: 0.014015152355539936, 40: 0.013801352531805226, 41: 0.013579714287906337, 42: 0.013350721486930466, 43: 0.013114863831444374, 44: 0.012872635494287972, 45: 0.012624533767124472, 46: 0.012371057730449596, 47: 0.01211270694860622, 48: 0.011849980193187481, 49: 0.011583374198041717, 50: 0.011313382448917856, 51: 0.011040494010609553, 52: 0.010765192394272073, 53: 0.010487954467398029, 54: 0.010209249408746679, 55: 0.009929537710328212, 56: 0.00964927022834877, 57: 0.009368887284825562, 58: 0.009088817821383894, 59: 0.0088094786065506, 60: 0.008531273497661637, 61: 0.008254592758305467, 62: 0.00797981243202977, 63: 0.007707293772846755, 64: 0.0074373827328827495, 65: 0.007170409507331368, 66: 0.006906688136686488, 67: 0.00664651616605235, 68: 0.006390174361153975, 69: 0.006137926480501041, 70: 0.005890019102994459, 71: 0.0056466815101060535, 72: 0.005408125621609147, 73: 0.005174545983691488, 74: 0.004946119808142465, 75: 0.004723007061173577, 76: 0.0045053506003058345, 77: 0.004293276357639544, 78: 0.004086893567711639, 79: 0.0038862950380431634, 80: 0.003691557460384979, 81: 0.003502741760583566, 82: 0.0033198934849108146, 83: 0.003143043220632066, 84: 0.0029722070485259074, 85: 0.0028073870250163993, 86: 0.002648571691534833, 87: 0.0024957366086927964, 88: 0.0023488449128215797, 89: 0.0022078478924148653, 90: 0.0020726855820021196, 91: 0.0019432873709786923, 92: 0.0018195726249258539, 93: 0.0017014513169691756, 94: 0.0015888246667469068, 95: 0.0014815857845911062, 96: 0.001379620318563011, 97: 0.0012828071020303143, 98: 0.0011910187995273604, 99: 0.0011041225486995748, 100: 0.0010219805962004176})"
      ]
     },
     "execution_count": 170,
     "metadata": {},
     "output_type": "execute_result"
    }
   ],
   "source": [
    "suite"
   ]
  },
  {
   "cell_type": "markdown",
   "metadata": {},
   "source": [
    "Let's implement the solution with different values of y and compare results."
   ]
  },
  {
   "cell_type": "code",
   "execution_count": 171,
   "metadata": {
    "collapsed": true
   },
   "outputs": [],
   "source": [
    "def calculate(y):\n",
    "    prior = range(0, 101)\n",
    "    suite = UnreliableCoin(prior, y=y)\n",
    "    for ht in 'HHHHHTTTTTTTT':\n",
    "        suite.Update(ht)      \n",
    "        \n",
    "    thinkplot.Pdf(suite, label='y=%g' % y)"
   ]
  },
  {
   "cell_type": "code",
   "execution_count": 172,
   "metadata": {},
   "outputs": [
    {
     "data": {
      "image/png": "[encoded data removed]",
      "text/plain": [
       "<matplotlib.figure.Figure at 0x119fde210>"
      ]
     },
     "metadata": {},
     "output_type": "display_data"
    }
   ],
   "source": [
    "calculatePrior(1)\n",
    "calculatePrior(0.8)\n",
    "calculatePrior(0.6)\n",
    "thinkplot.config(legend=True)"
   ]
  },
  {
   "cell_type": "markdown",
   "metadata": {},
   "source": [
    "From the above plot we can observe that the posterior distribution gets wider as the measurement gets less reliable(value of y decreases). \n",
    "\n",
    "\n",
    "Let's check the distribution at y=0.5"
   ]
  },
  {
   "cell_type": "code",
   "execution_count": 174,
   "metadata": {},
   "outputs": [
    {
     "data": {
      "image/png": "[encoded data removed]",
      "text/plain": [
       "<matplotlib.figure.Figure at 0x11a8e1410>"
      ]
     },
     "metadata": {},
     "output_type": "display_data"
    }
   ],
   "source": [
    "calculatePrior(0.5)\n",
    "thinkplot.config(legend=True)"
   ]
  },
  {
   "cell_type": "markdown",
   "metadata": {},
   "source": [
    "At y=0.5 posterior becomes equal to prior, hence no informtaion is obtained. Let's check what happens when the reliability of measurement(y) drops below 0.5."
   ]
  },
  {
   "cell_type": "code",
   "execution_count": 175,
   "metadata": {},
   "outputs": [
    {
     "data": {
      "image/png": "[encoded data removed]",
      "text/plain": [
       "<matplotlib.figure.Figure at 0x11a9ab810>"
      ]
     },
     "metadata": {},
     "output_type": "display_data"
    }
   ],
   "source": [
    "# Cases when the reliability of measurement drops below 0.5\n",
    "calculatePrior(0.4)\n",
    "calculatePrior(0.2)\n",
    "calculatePrior(0.0)\n",
    "thinkplot.config(legend=True)"
   ]
  },
  {
   "cell_type": "markdown",
   "metadata": {},
   "source": [
    "Below 0.5, as the value of y drops from 0.4 to 0.2 to 0 the posterior distribution gets narrower again!!!"
   ]
  },
  {
   "cell_type": "markdown",
   "metadata": {},
   "source": [
    "**Exercise 4.2.**\n",
    "\n",
    "\n",
    "This exercise is inspired by a question posted by a “redditor” named dominosci on Reddit’s statistics “subreddit” at http: // reddit. com/ r/ statistics .\n",
    "\n",
    "Reddit is an online forum with many interest groups called subreddits. Users, called redditors, post links to online content and other web pages. Other redditors vote on the links, giving an “upvote” to high-quality links and a “downvote” to links that are bad or irrelevant.\n",
    "\n",
    "A problem, identified by dominosci, is that some redditors are more reliable than others, and Reddit does not take this into account.\n",
    "\n",
    "The challenge is to devise a system so that when a redditor casts a vote, the estimated quality of the link is updated in accordance with the reliability of the redditor, and the estimated reliability of the redditor is updated in accordance with the quality of the link.\n",
    "One approach is to model the quality of the link as the probability of garnering an upvote, and to model the reliability of the redditor as the probability of correctly giving an upvote to a high-quality item.\n",
    "\n",
    "Write class definitions for redditors and links and an update function that updates both objects whenever a redditor casts a vote."
   ]
  },
  {
   "cell_type": "markdown",
   "metadata": {},
   "source": [
    "**Solution**\n",
    "\n",
    "* Each link has quality q (the probability of eliciting an upvote from a completely reliable redditor). \n",
    "* Each user has a reliability r, which is the probability of giving an upvote to a link with q=1.\n",
    "* The probability that a redditor with reliability r gives an upvote to a link with quality q is `r*q + (1-r) * (1-q)`\n",
    "\n",
    "When a redditor votes on a item, we simultaneously update our belief about the redditor and the item."
   ]
  },
  {
   "cell_type": "code",
   "execution_count": 200,
   "metadata": {
    "collapsed": true
   },
   "outputs": [],
   "source": [
    "\"\"\"\n",
    "Class Redditor: Models the reliability of a redditor.\n",
    "hypo: integer value of r, the prob of a correct vote (0-100).\n",
    "data: (vote, q) pair, where vote is 'up' or 'down' and q is the mean quality of the link\n",
    "\"\"\"\n",
    "\n",
    "class Redditor(Suite):\n",
    "    def Likelihood(self, data, hypo):\n",
    "        r = hypo / 100.0\n",
    "        vote, q = data\n",
    "\n",
    "        if vote == 'up':\n",
    "            return r * q + (1-r) * (1-q)\n",
    "        elif vote == 'down':\n",
    "            return r * (1-q) + (1-r) * q\n",
    "        else:\n",
    "            return 0"
   ]
  },
  {
   "cell_type": "code",
   "execution_count": 207,
   "metadata": {
    "collapsed": true
   },
   "outputs": [],
   "source": [
    " \"\"\"\n",
    " Class Link: Models the quality of an item(link).\n",
    " hypo: integer value of x, the prob of garnering an upvote.\n",
    " data: (vote, r) pair, where vote is 'up' or 'down' and r is the mean reliability of the redditor\n",
    " \"\"\"\n",
    "\n",
    "class Link(Suite):\n",
    "    def Likelihood(self, data, hypo):\n",
    "        x = hypo / 100.0\n",
    "        vote, r = data\n",
    "\n",
    "        if vote == 'up':\n",
    "            return x * r + (1-x) * (1-r)\n",
    "        elif vote == 'down':\n",
    "            return x * (1-r) + (1-x) * r\n",
    "        else:\n",
    "            return 0"
   ]
  },
  {
   "cell_type": "markdown",
   "metadata": {},
   "source": [
    "Let's start with a redittor who has demonstrated some reliability."
   ]
  },
  {
   "cell_type": "code",
   "execution_count": 208,
   "metadata": {
    "collapsed": true
   },
   "outputs": [],
   "source": [
    "redditor = Redditor(label='redditor')\n",
    "beta = Beta(2, 1)\n",
    "for val, prob in beta.MakePmf().Items():\n",
    "    redditor.Set(val*100, prob)"
   ]
  },
  {
   "cell_type": "code",
   "execution_count": 209,
   "metadata": {},
   "outputs": [
    {
     "data": {
      "text/plain": [
       "0.6699999999999996"
      ]
     },
     "execution_count": 209,
     "metadata": {},
     "output_type": "execute_result"
    },
    {
     "data": {
      "image/png": "[encoded data removed]",
      "text/plain": [
       "<matplotlib.figure.Figure at 0x11af97590>"
      ]
     },
     "metadata": {},
     "output_type": "display_data"
    }
   ],
   "source": [
    "thinkplot.Pdf(redditor)\n",
    "mean_r = redditor.Mean() / 100.0\n",
    "mean_r"
   ]
  },
  {
   "cell_type": "code",
   "execution_count": 210,
   "metadata": {},
   "outputs": [
    {
     "data": {
      "text/plain": [
       "0.5000000000000001"
      ]
     },
     "execution_count": 210,
     "metadata": {},
     "output_type": "execute_result"
    },
    {
     "data": {
      "image/png": "[encoded data removed]",
      "text/plain": [
       "<matplotlib.figure.Figure at 0x11a0f9150>"
      ]
     },
     "metadata": {},
     "output_type": "display_data"
    }
   ],
   "source": [
    "item = Link(range(0, 101), label='link')\n",
    "\n",
    "thinkplot.Pdf(item)\n",
    "mean_q = item.Mean() / 100.0\n",
    "mean_q"
   ]
  },
  {
   "cell_type": "markdown",
   "metadata": {},
   "source": [
    "Lets's update the priors each with mean value of other!!!"
   ]
  },
  {
   "cell_type": "code",
   "execution_count": 211,
   "metadata": {},
   "outputs": [
    {
     "data": {
      "text/plain": [
       "0.4999999999999999"
      ]
     },
     "execution_count": 211,
     "metadata": {},
     "output_type": "execute_result"
    }
   ],
   "source": [
    "#Update redittor with mean quality of link\n",
    "redditor.Update(('up', mean_q))\n",
    "#Update link with mean reliability of redditor\n",
    "item.Update(('up', mean_r))"
   ]
  },
  {
   "cell_type": "code",
   "execution_count": 212,
   "metadata": {},
   "outputs": [
    {
     "data": {
      "text/plain": [
       "55.78000000000002"
      ]
     },
     "execution_count": 212,
     "metadata": {},
     "output_type": "execute_result"
    }
   ],
   "source": [
    "item.Mean() "
   ]
  },
  {
   "cell_type": "markdown",
   "metadata": {},
   "source": [
    "So, after the upvote the mean quality of link increases to 55.78%."
   ]
  },
  {
   "cell_type": "markdown",
   "metadata": {},
   "source": [
    "### Discussion:\n",
    "\n",
    "The above exercises provided a good undertanding of the bayesian estimation for the following:\n",
    "* update in the belief in the system and how it effects posterior probabilities in sampling with and without replacement cases.\n",
    "* how to write likelihood functions to accomodate multiple hypothesis.\n",
    "* how posterior distribution changes with the reliability of measurement of an outcome."
   ]
  },
  {
   "cell_type": "code",
   "execution_count": null,
   "metadata": {
    "collapsed": true
   },
   "outputs": [],
   "source": []
  }
 ],
 "metadata": {
  "kernelspec": {
   "display_name": "Python 2",
   "language": "python",
   "name": "python2"
  },
  "language_info": {
   "codemirror_mode": {
    "name": "ipython",
    "version": 2
   },
   "file_extension": ".py",
   "mimetype": "text/x-python",
   "name": "python",
   "nbconvert_exporter": "python",
   "pygments_lexer": "ipython2",
   "version": "2.7.13"
  }
 },
 "nbformat": 4,
 "nbformat_minor": 2
}
