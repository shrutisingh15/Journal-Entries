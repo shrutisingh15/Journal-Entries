{
 "cells": [
  {
   "cell_type": "markdown",
   "metadata": {},
   "source": [
    "## Customer Segmentation using Online Retail Store dataset"
   ]
  },
  {
   "cell_type": "markdown",
   "metadata": {},
   "source": [
    "### Introduction"
   ]
  },
  {
   "cell_type": "markdown",
   "metadata": {},
   "source": [
    "For week 8 journal entry, I decided to explore customer segmentation using Online Retail Store dataset (http://archive.ics.uci.edu/ml/datasets/online+retail) from UCI machine learning repository. \n",
    "\n",
    "This is a transactional data set which contains all the transactions occurring between 01/12/2010 and 09/12/2011 for a UK-based and registered non-store online retail.\n",
    "\n",
    "My analysis is primarily focused on the customers from United Kingdom as they are maximum in number.\n",
    "\n",
    "The goal of this work is two fold:\n",
    "* Perform RFM analysis which is a proven marketing tool for behavior based customer segmentation (https://www.putler.com/rfm-analysis/).\n",
    "\n",
    "\n",
    "* Combine RFM analysis with unsupervised clustering techniques to help the marketing teams of online retail business understand:\n",
    "  + their most valued customers in terms of revenue.\n",
    "  + which customers are more likely to respond to promotional campaigns?\n",
    "  + which customers can be retained? etc...\n",
    "  \n",
    "  \n",
    "\n",
    "Numpy,Pandas and Sklearn libraries have been used to perform data preprocessing and clustering. \n",
    "\n",
    "The performance of the clustering models have been measured using Silhouette scores from sklearns's metrics module.\n",
    "\n",
    "The data mining steps to prepare the data to be fed into the model, exploratory data analysis, RFM(recency, frequency and monetary)analysis, data normalization,modeling/evaluation of clustering techniques  constitute the experience of this project."
   ]
  },
  {
   "cell_type": "code",
   "execution_count": 107,
   "metadata": {
    "collapsed": true
   },
   "outputs": [],
   "source": [
    "# Import the libraries\n",
    "import pandas as pd\n",
    "import numpy as np\n",
    "import matplotlib.pyplot as plt\n",
    "from matplotlib import cm\n",
    "import seaborn as sns\n",
    "import datetime as dt\n",
    "%matplotlib inline\n",
    "\n",
    "from sklearn.cluster import KMeans\n",
    "from sklearn.decomposition import PCA\n",
    "from sklearn.mixture import GMM\n",
    "from sklearn.metrics import silhouette_score"
   ]
  },
  {
   "cell_type": "markdown",
   "metadata": {},
   "source": [
    "### Data Preprocessing "
   ]
  },
  {
   "cell_type": "code",
   "execution_count": 2,
   "metadata": {
    "collapsed": true
   },
   "outputs": [],
   "source": [
    "# Load the dataset.\n",
    "retaildf = pd.read_excel('Online Retail.xlsx')"
   ]
  },
  {
   "cell_type": "markdown",
   "metadata": {},
   "source": [
    "Take a quick look at the data set!!!"
   ]
  },
  {
   "cell_type": "code",
   "execution_count": 3,
   "metadata": {},
   "outputs": [
    {
     "data": {
      "text/html": [
       "<div>\n",
       "<style>\n",
       "    .dataframe thead tr:only-child th {\n",
       "        text-align: right;\n",
       "    }\n",
       "\n",
       "    .dataframe thead th {\n",
       "        text-align: left;\n",
       "    }\n",
       "\n",
       "    .dataframe tbody tr th {\n",
       "        vertical-align: top;\n",
       "    }\n",
       "</style>\n",
       "<table border=\"1\" class=\"dataframe\">\n",
       "  <thead>\n",
       "    <tr style=\"text-align: right;\">\n",
       "      <th></th>\n",
       "      <th>InvoiceNo</th>\n",
       "      <th>StockCode</th>\n",
       "      <th>Description</th>\n",
       "      <th>Quantity</th>\n",
       "      <th>InvoiceDate</th>\n",
       "      <th>UnitPrice</th>\n",
       "      <th>CustomerID</th>\n",
       "      <th>Country</th>\n",
       "    </tr>\n",
       "  </thead>\n",
       "  <tbody>\n",
       "    <tr>\n",
       "      <th>0</th>\n",
       "      <td>536365</td>\n",
       "      <td>85123A</td>\n",
       "      <td>WHITE HANGING HEART T-LIGHT HOLDER</td>\n",
       "      <td>6</td>\n",
       "      <td>2010-12-01 08:26:00</td>\n",
       "      <td>2.55</td>\n",
       "      <td>17850.0</td>\n",
       "      <td>United Kingdom</td>\n",
       "    </tr>\n",
       "    <tr>\n",
       "      <th>1</th>\n",
       "      <td>536365</td>\n",
       "      <td>71053</td>\n",
       "      <td>WHITE METAL LANTERN</td>\n",
       "      <td>6</td>\n",
       "      <td>2010-12-01 08:26:00</td>\n",
       "      <td>3.39</td>\n",
       "      <td>17850.0</td>\n",
       "      <td>United Kingdom</td>\n",
       "    </tr>\n",
       "    <tr>\n",
       "      <th>2</th>\n",
       "      <td>536365</td>\n",
       "      <td>84406B</td>\n",
       "      <td>CREAM CUPID HEARTS COAT HANGER</td>\n",
       "      <td>8</td>\n",
       "      <td>2010-12-01 08:26:00</td>\n",
       "      <td>2.75</td>\n",
       "      <td>17850.0</td>\n",
       "      <td>United Kingdom</td>\n",
       "    </tr>\n",
       "    <tr>\n",
       "      <th>3</th>\n",
       "      <td>536365</td>\n",
       "      <td>84029G</td>\n",
       "      <td>KNITTED UNION FLAG HOT WATER BOTTLE</td>\n",
       "      <td>6</td>\n",
       "      <td>2010-12-01 08:26:00</td>\n",
       "      <td>3.39</td>\n",
       "      <td>17850.0</td>\n",
       "      <td>United Kingdom</td>\n",
       "    </tr>\n",
       "    <tr>\n",
       "      <th>4</th>\n",
       "      <td>536365</td>\n",
       "      <td>84029E</td>\n",
       "      <td>RED WOOLLY HOTTIE WHITE HEART.</td>\n",
       "      <td>6</td>\n",
       "      <td>2010-12-01 08:26:00</td>\n",
       "      <td>3.39</td>\n",
       "      <td>17850.0</td>\n",
       "      <td>United Kingdom</td>\n",
       "    </tr>\n",
       "  </tbody>\n",
       "</table>\n",
       "</div>"
      ],
      "text/plain": [
       "  InvoiceNo StockCode                          Description  Quantity  \\\n",
       "0    536365    85123A   WHITE HANGING HEART T-LIGHT HOLDER         6   \n",
       "1    536365     71053                  WHITE METAL LANTERN         6   \n",
       "2    536365    84406B       CREAM CUPID HEARTS COAT HANGER         8   \n",
       "3    536365    84029G  KNITTED UNION FLAG HOT WATER BOTTLE         6   \n",
       "4    536365    84029E       RED WOOLLY HOTTIE WHITE HEART.         6   \n",
       "\n",
       "          InvoiceDate  UnitPrice  CustomerID         Country  \n",
       "0 2010-12-01 08:26:00       2.55     17850.0  United Kingdom  \n",
       "1 2010-12-01 08:26:00       3.39     17850.0  United Kingdom  \n",
       "2 2010-12-01 08:26:00       2.75     17850.0  United Kingdom  \n",
       "3 2010-12-01 08:26:00       3.39     17850.0  United Kingdom  \n",
       "4 2010-12-01 08:26:00       3.39     17850.0  United Kingdom  "
      ]
     },
     "execution_count": 3,
     "metadata": {},
     "output_type": "execute_result"
    }
   ],
   "source": [
    "retaildf.head()"
   ]
  },
  {
   "cell_type": "code",
   "execution_count": 4,
   "metadata": {},
   "outputs": [
    {
     "name": "stdout",
     "output_type": "stream",
     "text": [
      "<class 'pandas.core.frame.DataFrame'>\n",
      "RangeIndex: 541909 entries, 0 to 541908\n",
      "Data columns (total 8 columns):\n",
      "InvoiceNo      541909 non-null object\n",
      "StockCode      541909 non-null object\n",
      "Description    540455 non-null object\n",
      "Quantity       541909 non-null int64\n",
      "InvoiceDate    541909 non-null datetime64[ns]\n",
      "UnitPrice      541909 non-null float64\n",
      "CustomerID     406829 non-null float64\n",
      "Country        541909 non-null object\n",
      "dtypes: datetime64[ns](1), float64(2), int64(1), object(4)\n",
      "memory usage: 33.1+ MB\n"
     ]
    }
   ],
   "source": [
    "# Look at the schema of the dataset.\n",
    "retaildf.info()"
   ]
  },
  {
   "cell_type": "markdown",
   "metadata": {},
   "source": [
    "Quite  a few missing values in CustomerID, and Description columns....But let's check which country has the highest no. of online customers first...."
   ]
  },
  {
   "cell_type": "code",
   "execution_count": 6,
   "metadata": {},
   "outputs": [
    {
     "name": "stdout",
     "output_type": "stream",
     "text": [
      " No. of countries : 38\n"
     ]
    }
   ],
   "source": [
    "print \"No. of countries :\",retaildf['Country'].nunique()"
   ]
  },
  {
   "cell_type": "code",
   "execution_count": 7,
   "metadata": {},
   "outputs": [
    {
     "data": {
      "text/plain": [
       "<matplotlib.axes._subplots.AxesSubplot at 0x113a3f110>"
      ]
     },
     "execution_count": 7,
     "metadata": {},
     "output_type": "execute_result"
    },
    {
     "data": {
      "image/png": "[encoded data removed]",
      "text/plain": [
       "<matplotlib.figure.Figure at 0x113a41c90>"
      ]
     },
     "metadata": {},
     "output_type": "display_data"
    }
   ],
   "source": [
    "# Visualizing the countries with highest no. of online customers.\n",
    "country=retaildf['Country'].value_counts()\n",
    "country =pd.DataFrame(country)\n",
    "country.reset_index(inplace=True)\n",
    "country.columns =['Country','No. of Customers']\n",
    "fig,ax = plt.subplots(figsize=(10,8))\n",
    "sns.barplot(x ='No. of Customers', y ='Country', data=country)"
   ]
  },
  {
   "cell_type": "markdown",
   "metadata": {},
   "source": [
    "United Kingdom has the highest no. of customers. So, I would like to focus my analysis on United Kingdom customers only."
   ]
  },
  {
   "cell_type": "code",
   "execution_count": 8,
   "metadata": {
    "collapsed": true
   },
   "outputs": [],
   "source": [
    "# Cull the data for UK customers.\n",
    "retaildata=retaildf[retaildf['Country'] == 'United Kingdom']"
   ]
  },
  {
   "cell_type": "markdown",
   "metadata": {},
   "source": [
    "Quantity is an important variable in evaluating the monetary value of a customer. So, look at the statistics for this column.."
   ]
  },
  {
   "cell_type": "code",
   "execution_count": 9,
   "metadata": {},
   "outputs": [
    {
     "data": {
      "text/plain": [
       "count    495478.000000\n",
       "mean          8.605486\n",
       "std         227.588756\n",
       "min      -80995.000000\n",
       "25%           1.000000\n",
       "50%           3.000000\n",
       "75%          10.000000\n",
       "max       80995.000000\n",
       "Name: Quantity, dtype: float64"
      ]
     },
     "execution_count": 9,
     "metadata": {},
     "output_type": "execute_result"
    }
   ],
   "source": [
    "# Describe quatity column\n",
    "retaildata['Quantity'].describe()"
   ]
  },
  {
   "cell_type": "markdown",
   "metadata": {},
   "source": [
    "Negative values in Quantity column means it is a cancelled order. It is mentioned in the dataset description that cancelled orders has their invoices starting with \"C\". Let's validate that before performing any analysis."
   ]
  },
  {
   "cell_type": "code",
   "execution_count": 10,
   "metadata": {},
   "outputs": [
    {
     "data": {
      "text/html": [
       "<div>\n",
       "<style>\n",
       "    .dataframe thead tr:only-child th {\n",
       "        text-align: right;\n",
       "    }\n",
       "\n",
       "    .dataframe thead th {\n",
       "        text-align: left;\n",
       "    }\n",
       "\n",
       "    .dataframe tbody tr th {\n",
       "        vertical-align: top;\n",
       "    }\n",
       "</style>\n",
       "<table border=\"1\" class=\"dataframe\">\n",
       "  <thead>\n",
       "    <tr style=\"text-align: right;\">\n",
       "      <th></th>\n",
       "      <th>InvoiceNo</th>\n",
       "      <th>StockCode</th>\n",
       "      <th>Description</th>\n",
       "      <th>Quantity</th>\n",
       "      <th>InvoiceDate</th>\n",
       "      <th>UnitPrice</th>\n",
       "      <th>CustomerID</th>\n",
       "      <th>Country</th>\n",
       "    </tr>\n",
       "  </thead>\n",
       "  <tbody>\n",
       "    <tr>\n",
       "      <th>141</th>\n",
       "      <td>C536379</td>\n",
       "      <td>D</td>\n",
       "      <td>Discount</td>\n",
       "      <td>-1</td>\n",
       "      <td>2010-12-01 09:41:00</td>\n",
       "      <td>27.50</td>\n",
       "      <td>14527.0</td>\n",
       "      <td>United Kingdom</td>\n",
       "    </tr>\n",
       "    <tr>\n",
       "      <th>154</th>\n",
       "      <td>C536383</td>\n",
       "      <td>35004C</td>\n",
       "      <td>SET OF 3 COLOURED  FLYING DUCKS</td>\n",
       "      <td>-1</td>\n",
       "      <td>2010-12-01 09:49:00</td>\n",
       "      <td>4.65</td>\n",
       "      <td>15311.0</td>\n",
       "      <td>United Kingdom</td>\n",
       "    </tr>\n",
       "    <tr>\n",
       "      <th>235</th>\n",
       "      <td>C536391</td>\n",
       "      <td>22556</td>\n",
       "      <td>PLASTERS IN TIN CIRCUS PARADE</td>\n",
       "      <td>-12</td>\n",
       "      <td>2010-12-01 10:24:00</td>\n",
       "      <td>1.65</td>\n",
       "      <td>17548.0</td>\n",
       "      <td>United Kingdom</td>\n",
       "    </tr>\n",
       "    <tr>\n",
       "      <th>236</th>\n",
       "      <td>C536391</td>\n",
       "      <td>21984</td>\n",
       "      <td>PACK OF 12 PINK PAISLEY TISSUES</td>\n",
       "      <td>-24</td>\n",
       "      <td>2010-12-01 10:24:00</td>\n",
       "      <td>0.29</td>\n",
       "      <td>17548.0</td>\n",
       "      <td>United Kingdom</td>\n",
       "    </tr>\n",
       "    <tr>\n",
       "      <th>237</th>\n",
       "      <td>C536391</td>\n",
       "      <td>21983</td>\n",
       "      <td>PACK OF 12 BLUE PAISLEY TISSUES</td>\n",
       "      <td>-24</td>\n",
       "      <td>2010-12-01 10:24:00</td>\n",
       "      <td>0.29</td>\n",
       "      <td>17548.0</td>\n",
       "      <td>United Kingdom</td>\n",
       "    </tr>\n",
       "  </tbody>\n",
       "</table>\n",
       "</div>"
      ],
      "text/plain": [
       "    InvoiceNo StockCode                       Description  Quantity  \\\n",
       "141   C536379         D                          Discount        -1   \n",
       "154   C536383    35004C   SET OF 3 COLOURED  FLYING DUCKS        -1   \n",
       "235   C536391     22556    PLASTERS IN TIN CIRCUS PARADE        -12   \n",
       "236   C536391     21984  PACK OF 12 PINK PAISLEY TISSUES        -24   \n",
       "237   C536391     21983  PACK OF 12 BLUE PAISLEY TISSUES        -24   \n",
       "\n",
       "            InvoiceDate  UnitPrice  CustomerID         Country  \n",
       "141 2010-12-01 09:41:00      27.50     14527.0  United Kingdom  \n",
       "154 2010-12-01 09:49:00       4.65     15311.0  United Kingdom  \n",
       "235 2010-12-01 10:24:00       1.65     17548.0  United Kingdom  \n",
       "236 2010-12-01 10:24:00       0.29     17548.0  United Kingdom  \n",
       "237 2010-12-01 10:24:00       0.29     17548.0  United Kingdom  "
      ]
     },
     "execution_count": 10,
     "metadata": {},
     "output_type": "execute_result"
    }
   ],
   "source": [
    "# Look at cancelled orders\n",
    "cancelledOrders = retaildata[retaildata['InvoiceNo'].astype(str).str.contains('C')]\n",
    "cancelledOrders.head()"
   ]
  },
  {
   "cell_type": "markdown",
   "metadata": {},
   "source": [
    "Cancelled orders do have their invoice numbers starting with letter \"C\" and also have negative values in the quantity column. Let' confirm if they have any positive quantity at all..."
   ]
  },
  {
   "cell_type": "code",
   "execution_count": 11,
   "metadata": {},
   "outputs": [
    {
     "data": {
      "text/html": [
       "<div>\n",
       "<style>\n",
       "    .dataframe thead tr:only-child th {\n",
       "        text-align: right;\n",
       "    }\n",
       "\n",
       "    .dataframe thead th {\n",
       "        text-align: left;\n",
       "    }\n",
       "\n",
       "    .dataframe tbody tr th {\n",
       "        vertical-align: top;\n",
       "    }\n",
       "</style>\n",
       "<table border=\"1\" class=\"dataframe\">\n",
       "  <thead>\n",
       "    <tr style=\"text-align: right;\">\n",
       "      <th></th>\n",
       "      <th>InvoiceNo</th>\n",
       "      <th>StockCode</th>\n",
       "      <th>Description</th>\n",
       "      <th>Quantity</th>\n",
       "      <th>InvoiceDate</th>\n",
       "      <th>UnitPrice</th>\n",
       "      <th>CustomerID</th>\n",
       "      <th>Country</th>\n",
       "    </tr>\n",
       "  </thead>\n",
       "  <tbody>\n",
       "  </tbody>\n",
       "</table>\n",
       "</div>"
      ],
      "text/plain": [
       "Empty DataFrame\n",
       "Columns: [InvoiceNo, StockCode, Description, Quantity, InvoiceDate, UnitPrice, CustomerID, Country]\n",
       "Index: []"
      ]
     },
     "execution_count": 11,
     "metadata": {},
     "output_type": "execute_result"
    }
   ],
   "source": [
    "# Validate cancelled orders...\n",
    "cancelledOrders[cancelledOrders['Quantity']>0]"
   ]
  },
  {
   "cell_type": "markdown",
   "metadata": {},
   "source": [
    "Alright!!! so, negative quantity might mean that the transaction corresponds to cancelled orders. Let's cull the data for positive quantities."
   ]
  },
  {
   "cell_type": "code",
   "execution_count": 12,
   "metadata": {
    "collapsed": true
   },
   "outputs": [],
   "source": [
    "# extract the data for quantity greater than 1\n",
    "retaildata=retaildata[retaildata['Quantity']>0]"
   ]
  },
  {
   "cell_type": "markdown",
   "metadata": {},
   "source": [
    "Now, let's handle missing values. There are quite a few missing values in CustomerID and description column..."
   ]
  },
  {
   "cell_type": "code",
   "execution_count": 13,
   "metadata": {},
   "outputs": [
    {
     "name": "stdout",
     "output_type": "stream",
     "text": [
      "<class 'pandas.core.frame.DataFrame'>\n",
      "Int64Index: 486286 entries, 0 to 541893\n",
      "Data columns (total 8 columns):\n",
      "InvoiceNo      486286 non-null object\n",
      "StockCode      486286 non-null object\n",
      "Description    485694 non-null object\n",
      "Quantity       486286 non-null int64\n",
      "InvoiceDate    486286 non-null datetime64[ns]\n",
      "UnitPrice      486286 non-null float64\n",
      "CustomerID     354345 non-null float64\n",
      "Country        486286 non-null object\n",
      "dtypes: datetime64[ns](1), float64(2), int64(1), object(4)\n",
      "memory usage: 33.4+ MB\n"
     ]
    }
   ],
   "source": [
    "retaildata.info()"
   ]
  },
  {
   "cell_type": "code",
   "execution_count": 14,
   "metadata": {},
   "outputs": [
    {
     "data": {
      "text/plain": [
       "(354345, 8)"
      ]
     },
     "execution_count": 14,
     "metadata": {},
     "output_type": "execute_result"
    }
   ],
   "source": [
    "# drop rows with missing values in customer column\n",
    "retaildata.dropna(subset=['CustomerID'],inplace=True)\n",
    "retaildata.shape"
   ]
  },
  {
   "cell_type": "markdown",
   "metadata": {},
   "source": [
    "It is mentioned in the description that dataset contains transactions occurring between 01/12/2010 and 09/12/2011 for a UK-based and registered non-store online retail.So, I would use the data for one year from 09/12/2010 to 09/12/2011."
   ]
  },
  {
   "cell_type": "code",
   "execution_count": 15,
   "metadata": {
    "collapsed": true
   },
   "outputs": [],
   "source": [
    "# Extract the data from 2010-12-09 onwards....\n",
    "retaildata= retaildata[retaildata['InvoiceDate']>=\"2010-12-09\"]"
   ]
  },
  {
   "cell_type": "code",
   "execution_count": 16,
   "metadata": {},
   "outputs": [
    {
     "data": {
      "text/plain": [
       "(342478, 8)"
      ]
     },
     "execution_count": 16,
     "metadata": {},
     "output_type": "execute_result"
    }
   ],
   "source": [
    "# Check out the rows and columns in the extracted data\n",
    "retaildata.shape"
   ]
  },
  {
   "cell_type": "code",
   "execution_count": 17,
   "metadata": {},
   "outputs": [
    {
     "name": "stdout",
     "output_type": "stream",
     "text": [
      "<class 'pandas.core.frame.DataFrame'>\n",
      "Int64Index: 342478 entries, 19632 to 541893\n",
      "Data columns (total 8 columns):\n",
      "InvoiceNo      342478 non-null object\n",
      "StockCode      342478 non-null object\n",
      "Description    342478 non-null object\n",
      "Quantity       342478 non-null int64\n",
      "InvoiceDate    342478 non-null datetime64[ns]\n",
      "UnitPrice      342478 non-null float64\n",
      "CustomerID     342478 non-null float64\n",
      "Country        342478 non-null object\n",
      "dtypes: datetime64[ns](1), float64(2), int64(1), object(4)\n",
      "memory usage: 23.5+ MB\n"
     ]
    }
   ],
   "source": [
    "# Schema\n",
    "retaildata.info()"
   ]
  },
  {
   "cell_type": "markdown",
   "metadata": {},
   "source": [
    "No missing values...."
   ]
  },
  {
   "cell_type": "code",
   "execution_count": 18,
   "metadata": {},
   "outputs": [
    {
     "name": "stdout",
     "output_type": "stream",
     "text": [
      "No. of unique transactions in dataset : 16017\n",
      "No. of unique products bought : 3611\n",
      "No. of customers : 3863\n"
     ]
    }
   ],
   "source": [
    "print \"No. of unique transactions in dataset :\", retaildata['InvoiceNo'].nunique()\n",
    "print \"No. of unique products bought :\", retaildata['StockCode'].nunique()\n",
    "print \"No. of customers :\", retaildata['CustomerID'].nunique()"
   ]
  },
  {
   "cell_type": "markdown",
   "metadata": {},
   "source": [
    "### Methods\n",
    "\n",
    "RFM analysis and clustering techniques will be combined in the mini project to perform customer segmentation. \n",
    "\n",
    "RFM analysis will prepare the data in context of recency, frequency and monetary value of the customer. Later, various clustering algorithms like Kmeans and Gaussian Mixture Models will be applied on the RFM data to identify the customer groups in terms of their value etc..."
   ]
  },
  {
   "cell_type": "markdown",
   "metadata": {},
   "source": [
    "#### Step 1: RFM Analysis"
   ]
  },
  {
   "cell_type": "markdown",
   "metadata": {},
   "source": [
    "In marketing domain, RFM (Recency, Frequency, Monetary) is a very popular technique to perform customer segmentation that uses the past buying behavior of customers to segregate them into groups.\n",
    "\n",
    "It helps to indentify the customers who will most likely respond to a promotion or any personalization services in future.\n",
    "\n",
    "* Recency : No. of days passed since last purchase by the customer.\n",
    "* Frequency : Total no. of purchase transactions by the customer.\n",
    "* Monetary : Total money spent by the customer.\n",
    "\n",
    "\n",
    "In order to perform RMF analysis, one needs to create the above mentioned three attributes for every customer in the dataset."
   ]
  },
  {
   "cell_type": "markdown",
   "metadata": {},
   "source": [
    "#### Recency\n",
    "\n",
    "Recency tells how recent was the customer's buying transaction in the retail store.\n",
    "\n",
    "In order to compute recency, one needs to select a date from which one may calculate the no. of days passed since the customer last bought any product from the online retail store.\n",
    "\n",
    "Let's look at the last invoice date in the dataset."
   ]
  },
  {
   "cell_type": "code",
   "execution_count": 19,
   "metadata": {},
   "outputs": [
    {
     "name": "stdout",
     "output_type": "stream",
     "text": [
      "Last date in the dataset:  2011-12-09 12:49:00\n"
     ]
    }
   ],
   "source": [
    "print \"Last date in the dataset: \", retaildata['InvoiceDate'].max()"
   ]
  },
  {
   "cell_type": "markdown",
   "metadata": {},
   "source": [
    "Let's go ahead and use 09/12/2011 as the reference point."
   ]
  },
  {
   "cell_type": "code",
   "execution_count": 280,
   "metadata": {},
   "outputs": [
    {
     "name": "stdout",
     "output_type": "stream",
     "text": [
      "2011-12-09\n"
     ]
    }
   ],
   "source": [
    "datept = dt.date(2011,12,9)\n",
    "print datept"
   ]
  },
  {
   "cell_type": "code",
   "execution_count": 21,
   "metadata": {
    "collapsed": true
   },
   "outputs": [],
   "source": [
    "# Create a column date that contains invoice date\n",
    "retaildata['date'] = retaildata['InvoiceDate'].dt.date"
   ]
  },
  {
   "cell_type": "code",
   "execution_count": 23,
   "metadata": {},
   "outputs": [
    {
     "data": {
      "text/html": [
       "<div>\n",
       "<style>\n",
       "    .dataframe thead tr:only-child th {\n",
       "        text-align: right;\n",
       "    }\n",
       "\n",
       "    .dataframe thead th {\n",
       "        text-align: left;\n",
       "    }\n",
       "\n",
       "    .dataframe tbody tr th {\n",
       "        vertical-align: top;\n",
       "    }\n",
       "</style>\n",
       "<table border=\"1\" class=\"dataframe\">\n",
       "  <thead>\n",
       "    <tr style=\"text-align: right;\">\n",
       "      <th></th>\n",
       "      <th>InvoiceNo</th>\n",
       "      <th>StockCode</th>\n",
       "      <th>Description</th>\n",
       "      <th>Quantity</th>\n",
       "      <th>InvoiceDate</th>\n",
       "      <th>UnitPrice</th>\n",
       "      <th>CustomerID</th>\n",
       "      <th>Country</th>\n",
       "      <th>date</th>\n",
       "    </tr>\n",
       "  </thead>\n",
       "  <tbody>\n",
       "    <tr>\n",
       "      <th>19632</th>\n",
       "      <td>537879</td>\n",
       "      <td>22114</td>\n",
       "      <td>HOT WATER BOTTLE TEA AND SYMPATHY</td>\n",
       "      <td>12</td>\n",
       "      <td>2010-12-09 08:34:00</td>\n",
       "      <td>3.95</td>\n",
       "      <td>14243.0</td>\n",
       "      <td>United Kingdom</td>\n",
       "      <td>2010-12-09</td>\n",
       "    </tr>\n",
       "    <tr>\n",
       "      <th>19633</th>\n",
       "      <td>537879</td>\n",
       "      <td>22835</td>\n",
       "      <td>HOT WATER BOTTLE I AM SO POORLY</td>\n",
       "      <td>8</td>\n",
       "      <td>2010-12-09 08:34:00</td>\n",
       "      <td>4.65</td>\n",
       "      <td>14243.0</td>\n",
       "      <td>United Kingdom</td>\n",
       "      <td>2010-12-09</td>\n",
       "    </tr>\n",
       "    <tr>\n",
       "      <th>19634</th>\n",
       "      <td>537879</td>\n",
       "      <td>85150</td>\n",
       "      <td>LADIES &amp; GENTLEMEN METAL SIGN</td>\n",
       "      <td>6</td>\n",
       "      <td>2010-12-09 08:34:00</td>\n",
       "      <td>2.55</td>\n",
       "      <td>14243.0</td>\n",
       "      <td>United Kingdom</td>\n",
       "      <td>2010-12-09</td>\n",
       "    </tr>\n",
       "    <tr>\n",
       "      <th>19635</th>\n",
       "      <td>537879</td>\n",
       "      <td>85048</td>\n",
       "      <td>15CM CHRISTMAS GLASS BALL 20 LIGHTS</td>\n",
       "      <td>4</td>\n",
       "      <td>2010-12-09 08:34:00</td>\n",
       "      <td>7.95</td>\n",
       "      <td>14243.0</td>\n",
       "      <td>United Kingdom</td>\n",
       "      <td>2010-12-09</td>\n",
       "    </tr>\n",
       "    <tr>\n",
       "      <th>19636</th>\n",
       "      <td>537879</td>\n",
       "      <td>21524</td>\n",
       "      <td>DOORMAT SPOTTY HOME SWEET HOME</td>\n",
       "      <td>2</td>\n",
       "      <td>2010-12-09 08:34:00</td>\n",
       "      <td>7.95</td>\n",
       "      <td>14243.0</td>\n",
       "      <td>United Kingdom</td>\n",
       "      <td>2010-12-09</td>\n",
       "    </tr>\n",
       "  </tbody>\n",
       "</table>\n",
       "</div>"
      ],
      "text/plain": [
       "      InvoiceNo StockCode                          Description  Quantity  \\\n",
       "19632    537879     22114    HOT WATER BOTTLE TEA AND SYMPATHY        12   \n",
       "19633    537879     22835      HOT WATER BOTTLE I AM SO POORLY         8   \n",
       "19634    537879     85150        LADIES & GENTLEMEN METAL SIGN         6   \n",
       "19635    537879     85048  15CM CHRISTMAS GLASS BALL 20 LIGHTS         4   \n",
       "19636    537879     21524       DOORMAT SPOTTY HOME SWEET HOME         2   \n",
       "\n",
       "              InvoiceDate  UnitPrice  CustomerID         Country        date  \n",
       "19632 2010-12-09 08:34:00       3.95     14243.0  United Kingdom  2010-12-09  \n",
       "19633 2010-12-09 08:34:00       4.65     14243.0  United Kingdom  2010-12-09  \n",
       "19634 2010-12-09 08:34:00       2.55     14243.0  United Kingdom  2010-12-09  \n",
       "19635 2010-12-09 08:34:00       7.95     14243.0  United Kingdom  2010-12-09  \n",
       "19636 2010-12-09 08:34:00       7.95     14243.0  United Kingdom  2010-12-09  "
      ]
     },
     "execution_count": 23,
     "metadata": {},
     "output_type": "execute_result"
    }
   ],
   "source": [
    "retaildata.head()"
   ]
  },
  {
   "cell_type": "markdown",
   "metadata": {},
   "source": [
    "Now, let's compute the no. of days passed since the customer last bought any product from the online retail store using 09/12/2011 as the reference point."
   ]
  },
  {
   "cell_type": "code",
   "execution_count": 25,
   "metadata": {},
   "outputs": [
    {
     "data": {
      "text/html": [
       "<div>\n",
       "<style>\n",
       "    .dataframe thead tr:only-child th {\n",
       "        text-align: right;\n",
       "    }\n",
       "\n",
       "    .dataframe thead th {\n",
       "        text-align: left;\n",
       "    }\n",
       "\n",
       "    .dataframe tbody tr th {\n",
       "        vertical-align: top;\n",
       "    }\n",
       "</style>\n",
       "<table border=\"1\" class=\"dataframe\">\n",
       "  <thead>\n",
       "    <tr style=\"text-align: right;\">\n",
       "      <th></th>\n",
       "      <th>CustomerID</th>\n",
       "      <th>LastBoughtDate</th>\n",
       "      <th>Recency</th>\n",
       "    </tr>\n",
       "  </thead>\n",
       "  <tbody>\n",
       "    <tr>\n",
       "      <th>0</th>\n",
       "      <td>12346.0</td>\n",
       "      <td>2011-01-18</td>\n",
       "      <td>325</td>\n",
       "    </tr>\n",
       "    <tr>\n",
       "      <th>1</th>\n",
       "      <td>12747.0</td>\n",
       "      <td>2011-12-07</td>\n",
       "      <td>2</td>\n",
       "    </tr>\n",
       "    <tr>\n",
       "      <th>2</th>\n",
       "      <td>12748.0</td>\n",
       "      <td>2011-12-09</td>\n",
       "      <td>0</td>\n",
       "    </tr>\n",
       "    <tr>\n",
       "      <th>3</th>\n",
       "      <td>12749.0</td>\n",
       "      <td>2011-12-06</td>\n",
       "      <td>3</td>\n",
       "    </tr>\n",
       "    <tr>\n",
       "      <th>4</th>\n",
       "      <td>12820.0</td>\n",
       "      <td>2011-12-06</td>\n",
       "      <td>3</td>\n",
       "    </tr>\n",
       "  </tbody>\n",
       "</table>\n",
       "</div>"
      ],
      "text/plain": [
       "   CustomerID LastBoughtDate  Recency\n",
       "0     12346.0     2011-01-18      325\n",
       "1     12747.0     2011-12-07        2\n",
       "2     12748.0     2011-12-09        0\n",
       "3     12749.0     2011-12-06        3\n",
       "4     12820.0     2011-12-06        3"
      ]
     },
     "execution_count": 25,
     "metadata": {},
     "output_type": "execute_result"
    }
   ],
   "source": [
    "#extract the last purchase date and compute the no. of days passed since then.\n",
    "recency_data = retaildata.groupby('CustomerID',as_index=False)['date'].max()\n",
    "recency_data.columns = ['CustomerID','LastBoughtDate']\n",
    "recency_data['Recency'] = recency_data['LastBoughtDate'].apply(lambda x: (datept - x).days)\n",
    "recency_data.head()"
   ]
  },
  {
   "cell_type": "code",
   "execution_count": 26,
   "metadata": {
    "collapsed": true
   },
   "outputs": [],
   "source": [
    "# Drop the lastboughtdate column\n",
    "recency_data.drop('LastBoughtDate',axis=1,inplace=True)"
   ]
  },
  {
   "cell_type": "markdown",
   "metadata": {
    "collapsed": true
   },
   "source": [
    "#### Frequency\n",
    "\n",
    "Frequency tells how many times did the customer buy products from the retail store. Let's check the no. of invoices registered by the same customer in order to compute frequency.\n",
    "\n",
    "Data entry errors are very common. So, let's check if there are any duplicate rows with same customer and same invoice no."
   ]
  },
  {
   "cell_type": "code",
   "execution_count": 27,
   "metadata": {},
   "outputs": [
    {
     "name": "stdout",
     "output_type": "stream",
     "text": [
      "No. of duplicate rows with same customer and same invoice no. : 326461\n"
     ]
    }
   ],
   "source": [
    "print \"No. of duplicate rows with same customer and same invoice no. :\", sum(retaildata.duplicated(subset=['InvoiceNo','CustomerID']))"
   ]
  },
  {
   "cell_type": "markdown",
   "metadata": {},
   "source": [
    "Drop the duplicate rows and compute the frequency value."
   ]
  },
  {
   "cell_type": "code",
   "execution_count": 28,
   "metadata": {},
   "outputs": [
    {
     "data": {
      "text/html": [
       "<div>\n",
       "<style>\n",
       "    .dataframe thead tr:only-child th {\n",
       "        text-align: right;\n",
       "    }\n",
       "\n",
       "    .dataframe thead th {\n",
       "        text-align: left;\n",
       "    }\n",
       "\n",
       "    .dataframe tbody tr th {\n",
       "        vertical-align: top;\n",
       "    }\n",
       "</style>\n",
       "<table border=\"1\" class=\"dataframe\">\n",
       "  <thead>\n",
       "    <tr style=\"text-align: right;\">\n",
       "      <th></th>\n",
       "      <th>CustomerID</th>\n",
       "      <th>Frequency</th>\n",
       "    </tr>\n",
       "  </thead>\n",
       "  <tbody>\n",
       "    <tr>\n",
       "      <th>0</th>\n",
       "      <td>12346.0</td>\n",
       "      <td>1</td>\n",
       "    </tr>\n",
       "    <tr>\n",
       "      <th>1</th>\n",
       "      <td>12747.0</td>\n",
       "      <td>10</td>\n",
       "    </tr>\n",
       "    <tr>\n",
       "      <th>2</th>\n",
       "      <td>12748.0</td>\n",
       "      <td>196</td>\n",
       "    </tr>\n",
       "    <tr>\n",
       "      <th>3</th>\n",
       "      <td>12749.0</td>\n",
       "      <td>5</td>\n",
       "    </tr>\n",
       "    <tr>\n",
       "      <th>4</th>\n",
       "      <td>12820.0</td>\n",
       "      <td>4</td>\n",
       "    </tr>\n",
       "  </tbody>\n",
       "</table>\n",
       "</div>"
      ],
      "text/plain": [
       "   CustomerID  Frequency\n",
       "0     12346.0          1\n",
       "1     12747.0         10\n",
       "2     12748.0        196\n",
       "3     12749.0          5\n",
       "4     12820.0          4"
      ]
     },
     "execution_count": 28,
     "metadata": {},
     "output_type": "execute_result"
    }
   ],
   "source": [
    "# Make a copy of the dataset and drop duplicate rows with same customer and same invoice no. if any\n",
    "retaildataCopy = retaildata\n",
    "retaildataCopy.drop_duplicates(subset=['InvoiceNo','CustomerID'], keep ='first', inplace=True)\n",
    "frequency_data = retaildataCopy.groupby('CustomerID',as_index=False)['InvoiceNo'].count()\n",
    "frequency_data.columns = ['CustomerID','Frequency']\n",
    "frequency_data.head()"
   ]
  },
  {
   "cell_type": "markdown",
   "metadata": {},
   "source": [
    "#### Monetary \n",
    "\n",
    "Monetary value tells us how much money in total did the customer spend in the retail store.\n",
    "\n",
    "In order to compute total money spent by the customer, let's add a column 'TotalCost' in the datatset."
   ]
  },
  {
   "cell_type": "code",
   "execution_count": 29,
   "metadata": {},
   "outputs": [
    {
     "data": {
      "text/html": [
       "<div>\n",
       "<style>\n",
       "    .dataframe thead tr:only-child th {\n",
       "        text-align: right;\n",
       "    }\n",
       "\n",
       "    .dataframe thead th {\n",
       "        text-align: left;\n",
       "    }\n",
       "\n",
       "    .dataframe tbody tr th {\n",
       "        vertical-align: top;\n",
       "    }\n",
       "</style>\n",
       "<table border=\"1\" class=\"dataframe\">\n",
       "  <thead>\n",
       "    <tr style=\"text-align: right;\">\n",
       "      <th></th>\n",
       "      <th>CustomerID</th>\n",
       "      <th>Monetary</th>\n",
       "    </tr>\n",
       "  </thead>\n",
       "  <tbody>\n",
       "    <tr>\n",
       "      <th>0</th>\n",
       "      <td>12346.0</td>\n",
       "      <td>77183.60</td>\n",
       "    </tr>\n",
       "    <tr>\n",
       "      <th>1</th>\n",
       "      <td>12747.0</td>\n",
       "      <td>658.89</td>\n",
       "    </tr>\n",
       "    <tr>\n",
       "      <th>2</th>\n",
       "      <td>12748.0</td>\n",
       "      <td>3739.23</td>\n",
       "    </tr>\n",
       "    <tr>\n",
       "      <th>3</th>\n",
       "      <td>12749.0</td>\n",
       "      <td>98.35</td>\n",
       "    </tr>\n",
       "    <tr>\n",
       "      <th>4</th>\n",
       "      <td>12820.0</td>\n",
       "      <td>58.20</td>\n",
       "    </tr>\n",
       "  </tbody>\n",
       "</table>\n",
       "</div>"
      ],
      "text/plain": [
       "   CustomerID  Monetary\n",
       "0     12346.0  77183.60\n",
       "1     12747.0    658.89\n",
       "2     12748.0   3739.23\n",
       "3     12749.0     98.35\n",
       "4     12820.0     58.20"
      ]
     },
     "execution_count": 29,
     "metadata": {},
     "output_type": "execute_result"
    }
   ],
   "source": [
    "# Compute monetary value of the customers\n",
    "retaildata['TotalCost'] = retaildata['Quantity']*retaildata['UnitPrice']\n",
    "monetary_data = retaildata.groupby('CustomerID', as_index=False).agg({'TotalCost':'sum'})\n",
    "monetary_data.columns =['CustomerID','Monetary']\n",
    "monetary_data.head()"
   ]
  },
  {
   "cell_type": "markdown",
   "metadata": {},
   "source": [
    "Now, that all the attributes have been calculated let's merge all the data to create RFM table."
   ]
  },
  {
   "cell_type": "code",
   "execution_count": 30,
   "metadata": {},
   "outputs": [
    {
     "data": {
      "text/html": [
       "<div>\n",
       "<style>\n",
       "    .dataframe thead tr:only-child th {\n",
       "        text-align: right;\n",
       "    }\n",
       "\n",
       "    .dataframe thead th {\n",
       "        text-align: left;\n",
       "    }\n",
       "\n",
       "    .dataframe tbody tr th {\n",
       "        vertical-align: top;\n",
       "    }\n",
       "</style>\n",
       "<table border=\"1\" class=\"dataframe\">\n",
       "  <thead>\n",
       "    <tr style=\"text-align: right;\">\n",
       "      <th></th>\n",
       "      <th>Recency</th>\n",
       "      <th>Frequency</th>\n",
       "      <th>Monetary</th>\n",
       "    </tr>\n",
       "    <tr>\n",
       "      <th>CustomerID</th>\n",
       "      <th></th>\n",
       "      <th></th>\n",
       "      <th></th>\n",
       "    </tr>\n",
       "  </thead>\n",
       "  <tbody>\n",
       "    <tr>\n",
       "      <th>12346.0</th>\n",
       "      <td>325</td>\n",
       "      <td>1</td>\n",
       "      <td>77183.60</td>\n",
       "    </tr>\n",
       "    <tr>\n",
       "      <th>12747.0</th>\n",
       "      <td>2</td>\n",
       "      <td>10</td>\n",
       "      <td>658.89</td>\n",
       "    </tr>\n",
       "    <tr>\n",
       "      <th>12748.0</th>\n",
       "      <td>0</td>\n",
       "      <td>196</td>\n",
       "      <td>3739.23</td>\n",
       "    </tr>\n",
       "    <tr>\n",
       "      <th>12749.0</th>\n",
       "      <td>3</td>\n",
       "      <td>5</td>\n",
       "      <td>98.35</td>\n",
       "    </tr>\n",
       "    <tr>\n",
       "      <th>12820.0</th>\n",
       "      <td>3</td>\n",
       "      <td>4</td>\n",
       "      <td>58.20</td>\n",
       "    </tr>\n",
       "  </tbody>\n",
       "</table>\n",
       "</div>"
      ],
      "text/plain": [
       "            Recency  Frequency  Monetary\n",
       "CustomerID                              \n",
       "12346.0         325          1  77183.60\n",
       "12747.0           2         10    658.89\n",
       "12748.0           0        196   3739.23\n",
       "12749.0           3          5     98.35\n",
       "12820.0           3          4     58.20"
      ]
     },
     "execution_count": 30,
     "metadata": {},
     "output_type": "execute_result"
    }
   ],
   "source": [
    "#Merge the Recency, frequency and monetary data together\n",
    "rfm_data=recency_data.merge(frequency_data,on='CustomerID').merge(monetary_data,on='CustomerID')\n",
    "rfm_data.set_index('CustomerID',inplace=True)\n",
    "rfm_data.head()"
   ]
  },
  {
   "cell_type": "markdown",
   "metadata": {},
   "source": [
    "From the first row of the RFM, the customer with ID \"12346.0\" bought a product from the retail store just once worth 77183.6 sterlings before 325 days from 09/12/2011. \n",
    "\n",
    "let's go ahead and validate this observation from original dataset."
   ]
  },
  {
   "cell_type": "code",
   "execution_count": 31,
   "metadata": {},
   "outputs": [
    {
     "data": {
      "text/html": [
       "<div>\n",
       "<style>\n",
       "    .dataframe thead tr:only-child th {\n",
       "        text-align: right;\n",
       "    }\n",
       "\n",
       "    .dataframe thead th {\n",
       "        text-align: left;\n",
       "    }\n",
       "\n",
       "    .dataframe tbody tr th {\n",
       "        vertical-align: top;\n",
       "    }\n",
       "</style>\n",
       "<table border=\"1\" class=\"dataframe\">\n",
       "  <thead>\n",
       "    <tr style=\"text-align: right;\">\n",
       "      <th></th>\n",
       "      <th>InvoiceNo</th>\n",
       "      <th>StockCode</th>\n",
       "      <th>Description</th>\n",
       "      <th>Quantity</th>\n",
       "      <th>InvoiceDate</th>\n",
       "      <th>UnitPrice</th>\n",
       "      <th>CustomerID</th>\n",
       "      <th>Country</th>\n",
       "      <th>date</th>\n",
       "      <th>TotalCost</th>\n",
       "    </tr>\n",
       "  </thead>\n",
       "  <tbody>\n",
       "    <tr>\n",
       "      <th>61619</th>\n",
       "      <td>541431</td>\n",
       "      <td>23166</td>\n",
       "      <td>MEDIUM CERAMIC TOP STORAGE JAR</td>\n",
       "      <td>74215</td>\n",
       "      <td>2011-01-18 10:01:00</td>\n",
       "      <td>1.04</td>\n",
       "      <td>12346.0</td>\n",
       "      <td>United Kingdom</td>\n",
       "      <td>2011-01-18</td>\n",
       "      <td>77183.6</td>\n",
       "    </tr>\n",
       "  </tbody>\n",
       "</table>\n",
       "</div>"
      ],
      "text/plain": [
       "      InvoiceNo StockCode                     Description  Quantity  \\\n",
       "61619    541431     23166  MEDIUM CERAMIC TOP STORAGE JAR     74215   \n",
       "\n",
       "              InvoiceDate  UnitPrice  CustomerID         Country        date  \\\n",
       "61619 2011-01-18 10:01:00       1.04     12346.0  United Kingdom  2011-01-18   \n",
       "\n",
       "       TotalCost  \n",
       "61619    77183.6  "
      ]
     },
     "execution_count": 31,
     "metadata": {},
     "output_type": "execute_result"
    }
   ],
   "source": [
    "# Data validation \n",
    "retaildata[retaildata['CustomerID']==12346.0]"
   ]
  },
  {
   "cell_type": "code",
   "execution_count": 32,
   "metadata": {},
   "outputs": [
    {
     "name": "stdout",
     "output_type": "stream",
     "text": [
      "No. of days passed since the customer last bought from the store: 325\n"
     ]
    }
   ],
   "source": [
    "print \"No. of days passed since the customer last bought from the store:\", (datept - dt.date(2011,1,18)).days"
   ]
  },
  {
   "cell_type": "markdown",
   "metadata": {},
   "source": [
    "Indeed the RFM table is correct...."
   ]
  },
  {
   "cell_type": "markdown",
   "metadata": {},
   "source": [
    "#### Step 2: Clustering Implementation to perform customer segmentation using RFM data."
   ]
  },
  {
   "cell_type": "markdown",
   "metadata": {},
   "source": [
    "Before performing the clustering analysis, let's check out the distribution of the data."
   ]
  },
  {
   "cell_type": "code",
   "execution_count": 53,
   "metadata": {},
   "outputs": [
    {
     "data": {
      "text/plain": [
       "<seaborn.axisgrid.PairGrid at 0x113c06850>"
      ]
     },
     "execution_count": 53,
     "metadata": {},
     "output_type": "execute_result"
    },
    {
     "data": {
      "image/png": "[encoded data removed]",
      "text/plain": [
       "<matplotlib.figure.Figure at 0x1103dd3d0>"
      ]
     },
     "metadata": {},
     "output_type": "display_data"
    }
   ],
   "source": [
    "# Visualization to check out distribution of data\n",
    "sns.pairplot(rfm_data)"
   ]
  },
  {
   "cell_type": "markdown",
   "metadata": {},
   "source": [
    "RFM data is skewed positively and contains outliers as well.This is very obvious in the above pair plot."
   ]
  },
  {
   "cell_type": "markdown",
   "metadata": {},
   "source": [
    "Kmeans clustering requires data to be continuous. It works best with relatively normally distributed and standardized input variables.Moreover, standardization of input variables is very important, else input variables with larger variance will have greater influence on the results. \n",
    "\n",
    "So, let's perform a log transformation on the three variables in RFM data and then standardize them as z-scores."
   ]
  },
  {
   "cell_type": "markdown",
   "metadata": {},
   "source": [
    "#### Data Normalization"
   ]
  },
  {
   "cell_type": "code",
   "execution_count": 38,
   "metadata": {
    "collapsed": true
   },
   "outputs": [],
   "source": [
    "# log transformation of the dataset to transform the skewness. Cannot take log(0) and so adding a small number\n",
    "recency_log = np.log(rfm_data['Recency']+0.1) \n",
    "frequency_log = np.log(rfm_data['Frequency'])\n",
    "monetary_log = np.log(rfm_data['Monetary']+0.1)\n",
    "log_data = pd.DataFrame({'Recency': recency_log,'Frequency': frequency_log,'Monetary': monetary_log})"
   ]
  },
  {
   "cell_type": "code",
   "execution_count": 46,
   "metadata": {
    "collapsed": true
   },
   "outputs": [],
   "source": [
    "# Standardizing the data as z scores\n",
    "std_values = lambda values : (values - values.mean() )/values.std()\n",
    "trans_data=log_data.apply(std_values)"
   ]
  },
  {
   "cell_type": "code",
   "execution_count": 54,
   "metadata": {},
   "outputs": [
    {
     "data": {
      "text/html": [
       "<div>\n",
       "<style>\n",
       "    .dataframe thead tr:only-child th {\n",
       "        text-align: right;\n",
       "    }\n",
       "\n",
       "    .dataframe thead th {\n",
       "        text-align: left;\n",
       "    }\n",
       "\n",
       "    .dataframe tbody tr th {\n",
       "        vertical-align: top;\n",
       "    }\n",
       "</style>\n",
       "<table border=\"1\" class=\"dataframe\">\n",
       "  <thead>\n",
       "    <tr style=\"text-align: right;\">\n",
       "      <th></th>\n",
       "      <th>Frequency</th>\n",
       "      <th>Monetary</th>\n",
       "      <th>Recency</th>\n",
       "    </tr>\n",
       "    <tr>\n",
       "      <th>CustomerID</th>\n",
       "      <th></th>\n",
       "      <th></th>\n",
       "      <th></th>\n",
       "    </tr>\n",
       "  </thead>\n",
       "  <tbody>\n",
       "    <tr>\n",
       "      <th>12346.0</th>\n",
       "      <td>-1.041919</td>\n",
       "      <td>4.820041</td>\n",
       "      <td>1.390563</td>\n",
       "    </tr>\n",
       "    <tr>\n",
       "      <th>12747.0</th>\n",
       "      <td>1.537319</td>\n",
       "      <td>1.705525</td>\n",
       "      <td>-1.960512</td>\n",
       "    </tr>\n",
       "    <tr>\n",
       "      <th>12748.0</th>\n",
       "      <td>4.870355</td>\n",
       "      <td>2.840606</td>\n",
       "      <td>-3.983921</td>\n",
       "    </tr>\n",
       "    <tr>\n",
       "      <th>12749.0</th>\n",
       "      <td>0.760891</td>\n",
       "      <td>0.462423</td>\n",
       "      <td>-1.701671</td>\n",
       "    </tr>\n",
       "    <tr>\n",
       "      <th>12820.0</th>\n",
       "      <td>0.510937</td>\n",
       "      <td>0.119832</td>\n",
       "      <td>-1.701671</td>\n",
       "    </tr>\n",
       "  </tbody>\n",
       "</table>\n",
       "</div>"
      ],
      "text/plain": [
       "            Frequency  Monetary   Recency\n",
       "CustomerID                               \n",
       "12346.0     -1.041919  4.820041  1.390563\n",
       "12747.0      1.537319  1.705525 -1.960512\n",
       "12748.0      4.870355  2.840606 -3.983921\n",
       "12749.0      0.760891  0.462423 -1.701671\n",
       "12820.0      0.510937  0.119832 -1.701671"
      ]
     },
     "execution_count": 54,
     "metadata": {},
     "output_type": "execute_result"
    }
   ],
   "source": [
    "trans_data.head()"
   ]
  },
  {
   "cell_type": "markdown",
   "metadata": {},
   "source": [
    "Let's take a quick look at how transformed data is distributed."
   ]
  },
  {
   "cell_type": "code",
   "execution_count": 48,
   "metadata": {},
   "outputs": [
    {
     "data": {
      "text/plain": [
       "<seaborn.axisgrid.PairGrid at 0x113dd47d0>"
      ]
     },
     "execution_count": 48,
     "metadata": {},
     "output_type": "execute_result"
    },
    {
     "data": {
      "image/png": "[encoded data removed]",
      "text/plain": [
       "<matplotlib.figure.Figure at 0x113dd4810>"
      ]
     },
     "metadata": {},
     "output_type": "display_data"
    }
   ],
   "source": [
    "# Produce a scatter matrix for each pair of features in the data\n",
    "sns.pairplot(trans_data)"
   ]
  },
  {
   "cell_type": "code",
   "execution_count": 192,
   "metadata": {},
   "outputs": [
    {
     "data": {
      "text/plain": [
       "<matplotlib.axes._subplots.AxesSubplot at 0x12905a510>"
      ]
     },
     "execution_count": 192,
     "metadata": {},
     "output_type": "execute_result"
    },
    {
     "data": {
      "image/png": "[encoded data removed]",
      "text/plain": [
       "<matplotlib.figure.Figure at 0x11753fdd0>"
      ]
     },
     "metadata": {},
     "output_type": "display_data"
    }
   ],
   "source": [
    "# Heatmap to show correlation between features\n",
    "sns.heatmap(trans_data.corr(),annot=True)"
   ]
  },
  {
   "cell_type": "markdown",
   "metadata": {},
   "source": [
    "The above pair plot shows that the distributions are better normalized now. The heatmap confirms the strength of positive relationship between frequency and monetary value feature i.e the more customer visits the store, the more money the customer would spend in the store. This is pretty intuitive!!!\n",
    "\n",
    "The relationship between Recency/Monetary and Recency/Frequency is negative in nature. \n"
   ]
  },
  {
   "cell_type": "markdown",
   "metadata": {},
   "source": [
    "Since, the data is normalized, next step would be the implementation of clustering techniques for customer segmentation."
   ]
  },
  {
   "cell_type": "markdown",
   "metadata": {},
   "source": [
    "#### Kmean Clustering\n",
    "\n",
    "Kmeans algorithm requires us to specify the no. of clusters k a priori. An inappropriate choice of cluster k can result in poor clustering performance. Elbow method and silhouette coefficient analysis are useful techniques to evaluate the quality of a clustering to help us determine the optimal no. of clusters k.\n",
    "\n",
    "#### Identifying No. of Clusters using Silhouette Coefficient Analysis:\n",
    "\n",
    "Silhouette score is a measure of cluster cohesion between points in the same cluster and cluster separation between the points from different clusters. This value is bounded in the range -1 to 1. A silhouette score of 0 means cluster cohesion and cluster separation are equal. Furthermore, we get close to an ideal score of 1 if cluster separation >>  cluster cohesion. \n"
   ]
  },
  {
   "cell_type": "code",
   "execution_count": 94,
   "metadata": {},
   "outputs": [
    {
     "name": "stdout",
     "output_type": "stream",
     "text": [
      "For n_clusters = 2 The average silhouette_score is : 0.407198517954\n",
      "For n_clusters = 3 The average silhouette_score is : 0.320783448006\n",
      "For n_clusters = 4 The average silhouette_score is : 0.307655690066\n",
      "For n_clusters = 5 The average silhouette_score is : 0.28939028622\n",
      "For n_clusters = 6 The average silhouette_score is : 0.285907778578\n",
      "For n_clusters = 7 The average silhouette_score is : 0.284019469121\n",
      "For n_clusters = 8 The average silhouette_score is : 0.293965263621\n",
      "For n_clusters = 9 The average silhouette_score is : 0.287959010029\n"
     ]
    }
   ],
   "source": [
    "# Cluster analysis using silhouette scores\n",
    "inMatrix = trans_data.as_matrix()\n",
    "for k in range(2,10):\n",
    "    kmeans = KMeans(init='k-means++', n_clusters = k, n_init=100, max_iter=300)\n",
    "    kmeans.fit(inMatrix)\n",
    "    cluster_predictions = kmeans.predict(inMatrix)\n",
    "    scores = silhouette_score(inMatrix, cluster_predictions)\n",
    "    print \"For n_clusters =\", k , \"The average silhouette_score is :\", scores  \n",
    "    #create a scatter plot\n",
    "    plt.scatter(inMatrix[:, 0], inMatrix[:, 1], c=clusters_customers, s=50, cmap='viridis')\n",
    "    #select cluster centers\n",
    "    centers = kmeans.cluster_centers_\n",
    "    plt.scatter(centers[:, 0], centers[:, 1], c='black', s=200, alpha=0.5);\n",
    "\n",
    "        "
   ]
  },
  {
   "cell_type": "markdown",
   "metadata": {},
   "source": [
    "The best silhouette score of 0.4 is obtained with no. of clusters of 2. Let's visualize couple of these clustering results and look at the median value and median frequency of visit of the customers per cluster. "
   ]
  },
  {
   "cell_type": "code",
   "execution_count": 217,
   "metadata": {},
   "outputs": [
    {
     "name": "stdout",
     "output_type": "stream",
     "text": [
      "Average silhouette score with 2 clusters : 0.407\n"
     ]
    },
    {
     "data": {
      "text/plain": [
       "<matplotlib.text.Text at 0x114582510>"
      ]
     },
     "execution_count": 217,
     "metadata": {},
     "output_type": "execute_result"
    },
    {
     "data": {
      "image/png": "[encoded data removed]",
      "text/plain": [
       "<matplotlib.figure.Figure at 0x115dd5d90>"
      ]
     },
     "metadata": {},
     "output_type": "display_data"
    }
   ],
   "source": [
    "# Analysing clustering results\n",
    "from sklearn.metrics import silhouette_score\n",
    "n_clusters = 2\n",
    "kmeans = KMeans(init='k-means++', n_clusters = n_clusters, n_init=10)\n",
    "kmeans.fit(trans_data)\n",
    "clusters_customers = kmeans.predict(trans_data)\n",
    "silhouette_score = silhouette_score(trans_data, clusters_customers)\n",
    "print('Average silhouette score with 2 clusters : {:<.3f}'.format(silhouette_score))\n",
    "\n",
    "#create a scatter plot\n",
    "plt.scatter(trans_data.ix[:, 0], trans_data.ix[:, 1], c=clusters_customers, s=50, cmap='viridis')\n",
    "#select cluster centers\n",
    "centers = kmeans.cluster_centers_\n",
    "plt.scatter(centers[:, 0], centers[:, 1], c='black', s=200, alpha=0.5);\n",
    "plt.xlabel('Log transformed Frequency')\n",
    "plt.ylabel('Log transformed Monetary')\n",
    "plt.title('kmeans solution with 2 clusters')"
   ]
  },
  {
   "cell_type": "code",
   "execution_count": 218,
   "metadata": {},
   "outputs": [
    {
     "name": "stdout",
     "output_type": "stream",
     "text": [
      "Results with 2 clusters :\n",
      "\n",
      "\n",
      "Cluster no --> 1\n",
      "No. of Customers in this cluster are : 2378\n",
      "Float64Index([12821.0, 12822.0, 12824.0, 12829.0, 12831.0, 12832.0, 12833.0,\n",
      "              12834.0, 12836.0, 12837.0,\n",
      "              ...\n",
      "              18262.0, 18265.0, 18268.0, 18270.0, 18274.0, 18276.0, 18277.0,\n",
      "              18278.0, 18280.0, 18281.0],\n",
      "             dtype='float64', name=u'CustomerID', length=2378)\n",
      "\n",
      "\n",
      "Median Value of Customers in cluster 1 is 21.085\n",
      "Median Frequency of Customers in cluster 1 is 1.0\n",
      "Median Recency of Customers in cluster 1 is 88.0\n",
      "\n",
      "\n",
      "Cluster no --> 2\n",
      "No. of Customers in this cluster are : 1485\n",
      "Float64Index([12346.0, 12747.0, 12748.0, 12749.0, 12820.0, 12823.0, 12826.0,\n",
      "              12827.0, 12828.0, 12830.0,\n",
      "              ...\n",
      "              18245.0, 18246.0, 18257.0, 18260.0, 18263.0, 18272.0, 18273.0,\n",
      "              18282.0, 18283.0, 18287.0],\n",
      "             dtype='float64', name=u'CustomerID', length=1485)\n",
      "\n",
      "\n",
      "Median Value of Customers in cluster 2 is 141.72\n",
      "Median Frequency of Customers in cluster 2 is 6.0\n",
      "Median Recency of Customers in cluster 2 is 16.0\n",
      "\n",
      "\n"
     ]
    }
   ],
   "source": [
    "# Clustering results with 2 clusters\n",
    "labels_true = trans_data.index\n",
    "labels = kmeans.labels_\n",
    "\n",
    "print \"Results with 2 clusters :\"\n",
    "print \"\\n\"\n",
    "\n",
    "for k in range(n_clusters):\n",
    "    class_members = (labels==k)\n",
    "    print \"Cluster no --> %d\" %(k+1)\n",
    "    print \"No. of Customers in this cluster are : %d\" %(sum(class_members))\n",
    "    print labels_true[class_members]\n",
    "    idx = labels_true[class_members]\n",
    "    print \"\\n\"\n",
    "    print \"Median Value of Customers in cluster {} is {}\".format(k+1,rfm_data.ix[idx]['Monetary'].median())\n",
    "    print \"Median Frequency of Customers in cluster {} is {}\".format(k+1,rfm_data.ix[idx]['Frequency'].median())\n",
    "    print \"Median Recency of Customers in cluster {} is {}\".format(k+1,rfm_data.ix[idx]['Recency'].median())\n",
    "\n",
    "    print \"\\n\""
   ]
  },
  {
   "cell_type": "markdown",
   "metadata": {},
   "source": [
    "A two cluster solution gives one group with a higher median value(141.9 sterlings) and the other group with a lower median value (21.0 sterlings). The frequency of visits by the customers in group 1 is higher than group 2. Also, the customers in group 1 bought the products quite recently i.e they have been shopping relatively recently and more.\n",
    "\n",
    "Kmeans with 2 cluster solution is oversimplying the user behaviour and cluster assignments do not look very discrete. So, let's look at a 3 cluster solution."
   ]
  },
  {
   "cell_type": "code",
   "execution_count": 219,
   "metadata": {},
   "outputs": [
    {
     "name": "stdout",
     "output_type": "stream",
     "text": [
      "Average silhouette score with 3 clusters: 0.321\n"
     ]
    },
    {
     "data": {
      "text/plain": [
       "<matplotlib.text.Text at 0x118691410>"
      ]
     },
     "execution_count": 219,
     "metadata": {},
     "output_type": "execute_result"
    },
    {
     "data": {
      "image/png": "[encoded data removed]",
      "text/plain": [
       "<matplotlib.figure.Figure at 0x11523af50>"
      ]
     },
     "metadata": {},
     "output_type": "display_data"
    }
   ],
   "source": [
    "# Analysing clustering results\n",
    "from sklearn.metrics import silhouette_score\n",
    "n_clusters = 3\n",
    "kmeans = KMeans(init='k-means++', n_clusters = n_clusters, n_init=10)\n",
    "kmeans.fit(trans_data)\n",
    "clusters_customers = kmeans.predict(trans_data)\n",
    "silhouette_score = silhouette_score(trans_data, clusters_customers)\n",
    "print('Average silhouette score with 3 clusters: {:<.3f}'.format(silhouette_score))\n",
    "\n",
    "#create a scatter plot\n",
    "plt.scatter(trans_data.ix[:, 0], trans_data.ix[:, 1], c=clusters_customers, s=50, cmap='viridis')\n",
    "#select cluster centers\n",
    "centers = kmeans.cluster_centers_\n",
    "plt.scatter(centers[:, 0], centers[:, 1], c='black', s=200, alpha=0.5);\n",
    "plt.xlabel('Log transformed Frequency')\n",
    "plt.ylabel('Log transformed Monetary')\n",
    "plt.title('kmeans solution with 3 clusters')"
   ]
  },
  {
   "cell_type": "code",
   "execution_count": 220,
   "metadata": {},
   "outputs": [
    {
     "name": "stdout",
     "output_type": "stream",
     "text": [
      "Results with 3 clusters :\n",
      "\n",
      "\n",
      "Cluster no --> 1\n",
      "No. of Customers in this cluster are : 1605\n",
      "Float64Index([12821.0, 12822.0, 12824.0, 12831.0, 12833.0, 12834.0, 12837.0,\n",
      "              12838.0, 12842.0, 12844.0,\n",
      "              ...\n",
      "              18250.0, 18252.0, 18255.0, 18262.0, 18268.0, 18274.0, 18277.0,\n",
      "              18278.0, 18280.0, 18281.0],\n",
      "             dtype='float64', name=u'CustomerID', length=1605)\n",
      "\n",
      "\n",
      "Median Value of Customers in cluster 1 is 15.9\n",
      "Median Frequency of Customers in cluster 1 is 1.0\n",
      "Median Recency of Customers in cluster 1 is 133.0\n",
      "\n",
      "\n",
      "Cluster no --> 2\n",
      "No. of Customers in this cluster are : 1560\n",
      "Float64Index([12346.0, 12827.0, 12829.0, 12832.0, 12836.0, 12840.0, 12843.0,\n",
      "              12845.0, 12849.0, 12853.0,\n",
      "              ...\n",
      "              18257.0, 18259.0, 18260.0, 18261.0, 18263.0, 18265.0, 18270.0,\n",
      "              18276.0, 18282.0, 18287.0],\n",
      "             dtype='float64', name=u'CustomerID', length=1560)\n",
      "\n",
      "\n",
      "Median Value of Customers in cluster 2 is 67.19\n",
      "Median Frequency of Customers in cluster 2 is 3.0\n",
      "Median Recency of Customers in cluster 2 is 39.0\n",
      "\n",
      "\n",
      "Cluster no --> 3\n",
      "No. of Customers in this cluster are : 698\n",
      "Float64Index([12747.0, 12748.0, 12749.0, 12820.0, 12823.0, 12826.0, 12828.0,\n",
      "              12830.0, 12839.0, 12841.0,\n",
      "              ...\n",
      "              18225.0, 18226.0, 18229.0, 18230.0, 18237.0, 18241.0, 18245.0,\n",
      "              18272.0, 18273.0, 18283.0],\n",
      "             dtype='float64', name=u'CustomerID', length=698)\n",
      "\n",
      "\n",
      "Median Value of Customers in cluster 3 is 258.995\n",
      "Median Frequency of Customers in cluster 3 is 9.0\n",
      "Median Recency of Customers in cluster 3 is 7.0\n",
      "\n",
      "\n"
     ]
    }
   ],
   "source": [
    "# Clustering results with 3 clusters\n",
    "labels_true = trans_data.index\n",
    "labels = kmeans.labels_\n",
    "\n",
    "print \"Results with 3 clusters :\"\n",
    "print \"\\n\"\n",
    "\n",
    "for k in range(n_clusters):\n",
    "    class_members = (labels==k)\n",
    "    print \"Cluster no --> %d\" %(k+1)\n",
    "    print \"No. of Customers in this cluster are : %d\" %(sum(class_members))\n",
    "    print labels_true[class_members]\n",
    "    idx = labels_true[class_members]\n",
    "    print \"\\n\"\n",
    "    print \"Median Value of Customers in cluster {} is {}\".format(k+1,rfm_data.ix[idx]['Monetary'].median())\n",
    "    print \"Median Frequency of Customers in cluster {} is {}\".format(k+1,rfm_data.ix[idx]['Frequency'].median())\n",
    "    print \"Median Recency of Customers in cluster {} is {}\".format(k+1,rfm_data.ix[idx]['Recency'].median())\n",
    "\n",
    "    print \"\\n\""
   ]
  },
  {
   "cell_type": "markdown",
   "metadata": {},
   "source": [
    "In three cluster solution, group1, group2 and group3 have median values of 67.18, 258.995 and 15.9 sterlings respectively. The corresponding frequency of visits by customers in these groups are 3, 9 and 1 with corresponding recency in their visits being 39, 7, and 133 days. \n",
    "\n",
    "These numbers confirm that the group of customers that generate higher revenue visit more frequently and have bought more recently in the online retail store. \n",
    "\n",
    "Let's look at one more solution with 5 clusters..."
   ]
  },
  {
   "cell_type": "code",
   "execution_count": 221,
   "metadata": {},
   "outputs": [
    {
     "name": "stdout",
     "output_type": "stream",
     "text": [
      "Average silhouette score with 3 clusters: 0.290\n"
     ]
    },
    {
     "data": {
      "text/plain": [
       "<matplotlib.text.Text at 0x11a9c0210>"
      ]
     },
     "execution_count": 221,
     "metadata": {},
     "output_type": "execute_result"
    },
    {
     "data": {
      "image/png": "[encoded data removed]",
      "text/plain": [
       "<matplotlib.figure.Figure at 0x114e55ed0>"
      ]
     },
     "metadata": {},
     "output_type": "display_data"
    }
   ],
   "source": [
    "# Analysing clustering results\n",
    "from sklearn.metrics import silhouette_score\n",
    "n_clusters = 5\n",
    "kmeans = KMeans(init='k-means++', n_clusters = n_clusters, n_init=10)\n",
    "kmeans.fit(trans_data)\n",
    "clusters_customers = kmeans.predict(trans_data)\n",
    "silhouette_score = silhouette_score(trans_data, clusters_customers)\n",
    "print('Average silhouette score with 3 clusters: {:<.3f}'.format(silhouette_score))\n",
    "\n",
    "#create a scatter plot\n",
    "plt.scatter(trans_data.ix[:, 0], trans_data.ix[:, 1], c=clusters_customers, s=50, cmap='viridis')\n",
    "#select cluster centers\n",
    "centers = kmeans.cluster_centers_\n",
    "plt.scatter(centers[:, 0], centers[:, 1], c='black', s=200, alpha=0.5);\n",
    "plt.xlabel('Log transformed Frequency')\n",
    "plt.ylabel('Log transformed Monetary')\n",
    "plt.title('kmeans solution with 5 clusters')"
   ]
  },
  {
   "cell_type": "code",
   "execution_count": 222,
   "metadata": {},
   "outputs": [
    {
     "name": "stdout",
     "output_type": "stream",
     "text": [
      "Results with 5 clusters :\n",
      "\n",
      "\n",
      "Cluster no --> 1\n",
      "No. of Customers in this cluster are : 893\n",
      "Float64Index([12346.0, 12822.0, 12829.0, 12836.0, 12840.0, 12842.0, 12845.0,\n",
      "              12854.0, 12857.0, 12863.0,\n",
      "              ...\n",
      "              18239.0, 18240.0, 18248.0, 18251.0, 18252.0, 18261.0, 18265.0,\n",
      "              18270.0, 18276.0, 18287.0],\n",
      "             dtype='float64', name=u'CustomerID', length=893)\n",
      "\n",
      "\n",
      "Median Value of Customers in cluster 1 is 60.9\n",
      "Median Frequency of Customers in cluster 1 is 2.0\n",
      "Median Recency of Customers in cluster 1 is 108.0\n",
      "\n",
      "\n",
      "Cluster no --> 2\n",
      "No. of Customers in this cluster are : 658\n",
      "Float64Index([12820.0, 12827.0, 12832.0, 12844.0, 12849.0, 12904.0, 12920.0,\n",
      "              12925.0, 12933.0, 12937.0,\n",
      "              ...\n",
      "              18158.0, 18174.0, 18184.0, 18188.0, 18205.0, 18217.0, 18249.0,\n",
      "              18259.0, 18263.0, 18282.0],\n",
      "             dtype='float64', name=u'CustomerID', length=658)\n",
      "\n",
      "\n",
      "Median Value of Customers in cluster 2 is 30.22\n",
      "Median Frequency of Customers in cluster 2 is 2.0\n",
      "Median Recency of Customers in cluster 2 is 16.0\n",
      "\n",
      "\n",
      "Cluster no --> 3\n",
      "No. of Customers in this cluster are : 786\n",
      "Float64Index([12823.0, 12830.0, 12843.0, 12853.0, 12856.0, 12867.0, 12879.0,\n",
      "              12882.0, 12883.0, 12906.0,\n",
      "              ...\n",
      "              18211.0, 18221.0, 18226.0, 18230.0, 18236.0, 18242.0, 18245.0,\n",
      "              18246.0, 18257.0, 18260.0],\n",
      "             dtype='float64', name=u'CustomerID', length=786)\n",
      "\n",
      "\n",
      "Median Value of Customers in cluster 3 is 140.83\n",
      "Median Frequency of Customers in cluster 3 is 6.0\n",
      "Median Recency of Customers in cluster 3 is 26.0\n",
      "\n",
      "\n",
      "Cluster no --> 4\n",
      "No. of Customers in this cluster are : 1147\n",
      "Float64Index([12821.0, 12824.0, 12831.0, 12833.0, 12834.0, 12837.0, 12838.0,\n",
      "              12847.0, 12851.0, 12852.0,\n",
      "              ...\n",
      "              18227.0, 18250.0, 18255.0, 18262.0, 18268.0, 18274.0, 18277.0,\n",
      "              18278.0, 18280.0, 18281.0],\n",
      "             dtype='float64', name=u'CustomerID', length=1147)\n",
      "\n",
      "\n",
      "Median Value of Customers in cluster 4 is 14.95\n",
      "Median Frequency of Customers in cluster 4 is 1.0\n",
      "Median Recency of Customers in cluster 4 is 143.0\n",
      "\n",
      "\n",
      "Cluster no --> 5\n",
      "No. of Customers in this cluster are : 379\n",
      "Float64Index([12747.0, 12748.0, 12749.0, 12826.0, 12828.0, 12839.0, 12841.0,\n",
      "              12877.0, 12901.0, 12912.0,\n",
      "              ...\n",
      "              18210.0, 18219.0, 18223.0, 18225.0, 18229.0, 18237.0, 18241.0,\n",
      "              18272.0, 18273.0, 18283.0],\n",
      "             dtype='float64', name=u'CustomerID', length=379)\n",
      "\n",
      "\n",
      "Median Value of Customers in cluster 5 is 322.01\n",
      "Median Frequency of Customers in cluster 5 is 12.0\n",
      "Median Recency of Customers in cluster 5 is 3.0\n",
      "\n",
      "\n"
     ]
    }
   ],
   "source": [
    "# Clustering results with 5 clusters\n",
    "labels_true = trans_data.index\n",
    "labels = kmeans.labels_\n",
    "\n",
    "print \"Results with 5 clusters :\"\n",
    "print \"\\n\"\n",
    "\n",
    "for k in range(n_clusters):\n",
    "    class_members = (labels==k)\n",
    "    print \"Cluster no --> %d\" %(k+1)\n",
    "    print \"No. of Customers in this cluster are : %d\" %(sum(class_members))\n",
    "    print labels_true[class_members]\n",
    "    idx = labels_true[class_members]\n",
    "    print \"\\n\"\n",
    "    print \"Median Value of Customers in cluster {} is {}\".format(k+1,rfm_data.ix[idx]['Monetary'].median())\n",
    "    print \"Median Frequency of Customers in cluster {} is {}\".format(k+1,rfm_data.ix[idx]['Frequency'].median())\n",
    "    print \"Median Recency of Customers in cluster {} is {}\".format(k+1,rfm_data.ix[idx]['Recency'].median())\n",
    "\n",
    "    print \"\\n\""
   ]
  },
  {
   "cell_type": "markdown",
   "metadata": {},
   "source": [
    "With the increase in the no. of clusters, the graphs become increasingly hard to interpret visually and the cluster centers start to make distinction that might not be very clear. "
   ]
  },
  {
   "cell_type": "markdown",
   "metadata": {},
   "source": [
    "#### Identifying No. of Clusters using Elbow method:"
   ]
  },
  {
   "cell_type": "markdown",
   "metadata": {},
   "source": [
    "In order to choose the optimal no. of clusters we can also look at elbow method that generates graph between within cluster variance on y axis and no. of clusters on x axis. \n",
    "\n",
    "The idea behind this technique is to identify the value of k(no. of clusters) where distortions(variance within the cluster) begin to increase more rapidly i.e the elbow point."
   ]
  },
  {
   "cell_type": "code",
   "execution_count": 212,
   "metadata": {},
   "outputs": [
    {
     "data": {
      "image/png": "[encoded data removed]",
      "text/plain": [
       "<matplotlib.figure.Figure at 0x115f03dd0>"
      ]
     },
     "metadata": {},
     "output_type": "display_data"
    }
   ],
   "source": [
    "# Calculating with cluster SSE and generating elbow graph.\n",
    "\n",
    "distortions = [] # within cluster SSE list calculated using km.interia_\n",
    "for k in range(1,10):\n",
    "    km = KMeans(init='k-means++', n_clusters = k, n_init=10, max_iter=300)\n",
    "    km.fit(trans_data)\n",
    "    distortions.append(km.inertia_)\n",
    "    \n",
    "plt.plot(range(1,10),distortions, marker='o',color='red')\n",
    "plt.xlabel('No. of Clusters')\n",
    "plt.ylabel('Distortions')\n",
    "plt.show()"
   ]
  },
  {
   "cell_type": "markdown",
   "metadata": {},
   "source": [
    "In the above plot, the elbow is located at n_clusters = 2, which gives us the evidence in favour of the goodness of the model. \n",
    "\n",
    "Both the elbow and silhouette method suggest 2 cluster solution. But in my opinion the 2 cluster solution with Kmeans looks over simplified. There is no clear cut separations i.e cluster assignments are quite muddled. Moreover, in kmeans there is no guarrantee of acheiving global optimal solution. It also can't deal with datasets with different shapes and does not enable probabilistic cluster assignments.\n",
    "\n",
    "Let's check out other methods like Gaussian Mixture Method which is a probabilistic model that assumes all the data points are generated from a mixture of a finite number of Gaussian distributions with unknown parameters. One can think of mixture models as generalizing k-means clustering to incorporate information about the covariance structure of the data as well as the centers of the latent Gaussians.\n"
   ]
  },
  {
   "cell_type": "markdown",
   "metadata": {},
   "source": [
    "#### Gaussian Mixture Model "
   ]
  },
  {
   "cell_type": "code",
   "execution_count": 278,
   "metadata": {},
   "outputs": [
    {
     "name": "stderr",
     "output_type": "stream",
     "text": [
      "/Users/Shruti/anaconda/lib/python2.7/site-packages/sklearn/utils/deprecation.py:52: DeprecationWarning: Class GMM is deprecated; The class GMM is deprecated in 0.18 and will be  removed in 0.20. Use class GaussianMixture instead.\n",
      "  warnings.warn(msg, category=DeprecationWarning)\n",
      "/Users/Shruti/anaconda/lib/python2.7/site-packages/sklearn/utils/deprecation.py:70: DeprecationWarning: Function distribute_covar_matrix_to_match_covariance_type is deprecated; The functon distribute_covar_matrix_to_match_covariance_typeis deprecated in 0.18 and will be removed in 0.20.\n",
      "  warnings.warn(msg, category=DeprecationWarning)\n",
      "/Users/Shruti/anaconda/lib/python2.7/site-packages/sklearn/utils/deprecation.py:70: DeprecationWarning: Function log_multivariate_normal_density is deprecated; The function log_multivariate_normal_density is deprecated in 0.18 and will be removed in 0.20.\n",
      "  warnings.warn(msg, category=DeprecationWarning)\n",
      "/Users/Shruti/anaconda/lib/python2.7/site-packages/sklearn/utils/deprecation.py:70: DeprecationWarning: Function log_multivariate_normal_density is deprecated; The function log_multivariate_normal_density is deprecated in 0.18 and will be removed in 0.20.\n",
      "  warnings.warn(msg, category=DeprecationWarning)\n",
      "/Users/Shruti/anaconda/lib/python2.7/site-packages/sklearn/utils/deprecation.py:70: DeprecationWarning: Function log_multivariate_normal_density is deprecated; The function log_multivariate_normal_density is deprecated in 0.18 and will be removed in 0.20.\n",
      "  warnings.warn(msg, category=DeprecationWarning)\n",
      "/Users/Shruti/anaconda/lib/python2.7/site-packages/sklearn/utils/deprecation.py:70: DeprecationWarning: Function log_multivariate_normal_density is deprecated; The function log_multivariate_normal_density is deprecated in 0.18 and will be removed in 0.20.\n",
      "  warnings.warn(msg, category=DeprecationWarning)\n",
      "/Users/Shruti/anaconda/lib/python2.7/site-packages/sklearn/utils/deprecation.py:70: DeprecationWarning: Function log_multivariate_normal_density is deprecated; The function log_multivariate_normal_density is deprecated in 0.18 and will be removed in 0.20.\n",
      "  warnings.warn(msg, category=DeprecationWarning)\n",
      "/Users/Shruti/anaconda/lib/python2.7/site-packages/sklearn/utils/deprecation.py:70: DeprecationWarning: Function log_multivariate_normal_density is deprecated; The function log_multivariate_normal_density is deprecated in 0.18 and will be removed in 0.20.\n",
      "  warnings.warn(msg, category=DeprecationWarning)\n",
      "/Users/Shruti/anaconda/lib/python2.7/site-packages/sklearn/utils/deprecation.py:70: DeprecationWarning: Function log_multivariate_normal_density is deprecated; The function log_multivariate_normal_density is deprecated in 0.18 and will be removed in 0.20.\n",
      "  warnings.warn(msg, category=DeprecationWarning)\n"
     ]
    },
    {
     "name": "stdout",
     "output_type": "stream",
     "text": [
      "Average Silhouette score with 2 cluster GMM : 0.398358336308\n"
     ]
    },
    {
     "data": {
      "text/plain": [
       "<matplotlib.text.Text at 0x11a468610>"
      ]
     },
     "execution_count": 278,
     "metadata": {},
     "output_type": "execute_result"
    },
    {
     "data": {
      "image/png": "[encoded data removed]",
      "text/plain": [
       "<matplotlib.figure.Figure at 0x128a133d0>"
      ]
     },
     "metadata": {},
     "output_type": "display_data"
    }
   ],
   "source": [
    "# Implementation of GMM using 2 clusters\n",
    "gmm = GMM(n_components=2).fit(trans_data)\n",
    "cluster_labels = gmm.predict(trans_data)\n",
    "score = silhouette_score(trans_data,cluster_labels)\n",
    "print \"Average Silhouette score with 2 cluster GMM :\", score\n",
    "plt.scatter(trans_data.ix[:, 0], trans_data.ix[:, 1], c=cluster_labels, s=40, cmap='viridis')\n",
    "plt.xlabel('Log transformed Frequency')\n",
    "plt.ylabel('Log transformed Monetary value')\n",
    "plt.title('Gaussian Mixture Model solution with 2 clusters')"
   ]
  },
  {
   "cell_type": "markdown",
   "metadata": {},
   "source": [
    "GMM model does not perform better than kmeans. The cluster assignments are not clearly separated. The silhouette score which is measure of cluster cohesion and separation is less than kmeans solution with 2 clusters. \n",
    "\n",
    "Let's look at one more three cluster solution with GMM."
   ]
  },
  {
   "cell_type": "code",
   "execution_count": 279,
   "metadata": {},
   "outputs": [
    {
     "name": "stderr",
     "output_type": "stream",
     "text": [
      "/Users/Shruti/anaconda/lib/python2.7/site-packages/sklearn/utils/deprecation.py:52: DeprecationWarning: Class GMM is deprecated; The class GMM is deprecated in 0.18 and will be  removed in 0.20. Use class GaussianMixture instead.\n",
      "  warnings.warn(msg, category=DeprecationWarning)\n",
      "/Users/Shruti/anaconda/lib/python2.7/site-packages/sklearn/utils/deprecation.py:70: DeprecationWarning: Function distribute_covar_matrix_to_match_covariance_type is deprecated; The functon distribute_covar_matrix_to_match_covariance_typeis deprecated in 0.18 and will be removed in 0.20.\n",
      "  warnings.warn(msg, category=DeprecationWarning)\n",
      "/Users/Shruti/anaconda/lib/python2.7/site-packages/sklearn/utils/deprecation.py:70: DeprecationWarning: Function log_multivariate_normal_density is deprecated; The function log_multivariate_normal_density is deprecated in 0.18 and will be removed in 0.20.\n",
      "  warnings.warn(msg, category=DeprecationWarning)\n",
      "/Users/Shruti/anaconda/lib/python2.7/site-packages/sklearn/utils/deprecation.py:70: DeprecationWarning: Function log_multivariate_normal_density is deprecated; The function log_multivariate_normal_density is deprecated in 0.18 and will be removed in 0.20.\n",
      "  warnings.warn(msg, category=DeprecationWarning)\n",
      "/Users/Shruti/anaconda/lib/python2.7/site-packages/sklearn/utils/deprecation.py:70: DeprecationWarning: Function log_multivariate_normal_density is deprecated; The function log_multivariate_normal_density is deprecated in 0.18 and will be removed in 0.20.\n",
      "  warnings.warn(msg, category=DeprecationWarning)\n",
      "/Users/Shruti/anaconda/lib/python2.7/site-packages/sklearn/utils/deprecation.py:70: DeprecationWarning: Function log_multivariate_normal_density is deprecated; The function log_multivariate_normal_density is deprecated in 0.18 and will be removed in 0.20.\n",
      "  warnings.warn(msg, category=DeprecationWarning)\n",
      "/Users/Shruti/anaconda/lib/python2.7/site-packages/sklearn/utils/deprecation.py:70: DeprecationWarning: Function log_multivariate_normal_density is deprecated; The function log_multivariate_normal_density is deprecated in 0.18 and will be removed in 0.20.\n",
      "  warnings.warn(msg, category=DeprecationWarning)\n",
      "/Users/Shruti/anaconda/lib/python2.7/site-packages/sklearn/utils/deprecation.py:70: DeprecationWarning: Function log_multivariate_normal_density is deprecated; The function log_multivariate_normal_density is deprecated in 0.18 and will be removed in 0.20.\n",
      "  warnings.warn(msg, category=DeprecationWarning)\n",
      "/Users/Shruti/anaconda/lib/python2.7/site-packages/sklearn/utils/deprecation.py:70: DeprecationWarning: Function log_multivariate_normal_density is deprecated; The function log_multivariate_normal_density is deprecated in 0.18 and will be removed in 0.20.\n",
      "  warnings.warn(msg, category=DeprecationWarning)\n",
      "/Users/Shruti/anaconda/lib/python2.7/site-packages/sklearn/utils/deprecation.py:70: DeprecationWarning: Function log_multivariate_normal_density is deprecated; The function log_multivariate_normal_density is deprecated in 0.18 and will be removed in 0.20.\n",
      "  warnings.warn(msg, category=DeprecationWarning)\n",
      "/Users/Shruti/anaconda/lib/python2.7/site-packages/sklearn/utils/deprecation.py:70: DeprecationWarning: Function log_multivariate_normal_density is deprecated; The function log_multivariate_normal_density is deprecated in 0.18 and will be removed in 0.20.\n",
      "  warnings.warn(msg, category=DeprecationWarning)\n",
      "/Users/Shruti/anaconda/lib/python2.7/site-packages/sklearn/utils/deprecation.py:70: DeprecationWarning: Function log_multivariate_normal_density is deprecated; The function log_multivariate_normal_density is deprecated in 0.18 and will be removed in 0.20.\n",
      "  warnings.warn(msg, category=DeprecationWarning)\n",
      "/Users/Shruti/anaconda/lib/python2.7/site-packages/sklearn/utils/deprecation.py:70: DeprecationWarning: Function log_multivariate_normal_density is deprecated; The function log_multivariate_normal_density is deprecated in 0.18 and will be removed in 0.20.\n",
      "  warnings.warn(msg, category=DeprecationWarning)\n",
      "/Users/Shruti/anaconda/lib/python2.7/site-packages/sklearn/utils/deprecation.py:70: DeprecationWarning: Function log_multivariate_normal_density is deprecated; The function log_multivariate_normal_density is deprecated in 0.18 and will be removed in 0.20.\n",
      "  warnings.warn(msg, category=DeprecationWarning)\n"
     ]
    },
    {
     "name": "stdout",
     "output_type": "stream",
     "text": [
      "Average Silhouette score with 3 cluster GMM : 0.289043611658\n"
     ]
    },
    {
     "data": {
      "text/plain": [
       "<matplotlib.text.Text at 0x128cc4d90>"
      ]
     },
     "execution_count": 279,
     "metadata": {},
     "output_type": "execute_result"
    },
    {
     "data": {
      "image/png": "[encoded data removed]",
      "text/plain": [
       "<matplotlib.figure.Figure at 0x1166ac750>"
      ]
     },
     "metadata": {},
     "output_type": "display_data"
    }
   ],
   "source": [
    "# Implementation of GMM using 3 clusters\n",
    "gmm = GMM(n_components=3).fit(trans_data)\n",
    "cluster_labels = gmm.predict(trans_data)\n",
    "score = silhouette_score(trans_data,cluster_labels)\n",
    "print \"Average Silhouette score with 3 cluster GMM :\", score\n",
    "plt.scatter(trans_data.ix[:, 0], trans_data.ix[:, 1], c=cluster_labels, s=40, cmap='viridis')\n",
    "plt.xlabel('Log transformed Frequency')\n",
    "plt.ylabel('Log transformed Monetary value')\n",
    "plt.title('Gaussian Mixture Model solution with 3 clusters')"
   ]
  },
  {
   "cell_type": "markdown",
   "metadata": {},
   "source": [
    "The silhouette coefficient dropped further with 3 clusters.\n",
    "\n",
    "### Results and Discussions: \n",
    "\n",
    "Kmeans and GMM are giving the same performance more or less. To be able to decide upon the most optimal no. of clusters, it would be best to consult with business stakeholders to understand the level of granularity they want to see in the cluster i.e whether they would like to see just 2 groups with clear differences in the monetary value of the customers and they would prefer more gradual low to high approach with more no. of clusters.\n",
    "\n",
    "In this project, I worked with entire Recency, frequency, Monetary data to perform the clustering. But according to Pareto's rule in context of market segmentation, **80% of the results come from 20% of the causes.** \n",
    "\n",
    "Similarly, **20% customers contribute to 80% of your total revenue.** \n",
    "\n",
    "So, this project can be extended further in the following ways:\n",
    "\n",
    "* By incorporating only the 20% of the customers generating 80% of the revenue by ranking the customers by their monetary value in RFM table.\n",
    "* By handling outliers. Algorithms like kmeans are very sensitive to outliers. They can some times end up being clustered together in their own group. Such outlier detection might help understand most important customers to the marketing team.\n",
    "* By implementing density based clustering algorithm like DBSCAN.\n"
   ]
  },
  {
   "cell_type": "code",
   "execution_count": null,
   "metadata": {
    "collapsed": true
   },
   "outputs": [],
   "source": []
  }
 ],
 "metadata": {
  "kernelspec": {
   "display_name": "Python 2",
   "language": "python",
   "name": "python2"
  },
  "language_info": {
   "codemirror_mode": {
    "name": "ipython",
    "version": 2
   },
   "file_extension": ".py",
   "mimetype": "text/x-python",
   "name": "python",
   "nbconvert_exporter": "python",
   "pygments_lexer": "ipython2",
   "version": "2.7.13"
  }
 },
 "nbformat": 4,
 "nbformat_minor": 2
}
